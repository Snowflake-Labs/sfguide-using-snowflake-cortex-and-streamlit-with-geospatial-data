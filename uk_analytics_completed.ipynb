{
 "metadata": {
  "kernelspec": {
   "display_name": "Streamlit Notebook",
   "name": "streamlit"
  }
 },
 "nbformat_minor": 5,
 "nbformat": 4,
 "cells": [
  {
   "cell_type": "code",
   "id": "ed24250f-24e5-48e4-8a6e-e43a529cb8d0",
   "metadata": {
    "language": "python",
    "name": "libraries",
    "collapsed": false,
    "resultHeight": 0
   },
   "outputs": [],
   "source": "# Import python packages\nimport streamlit as st\nfrom snowflake.snowpark.context import get_active_session\nfrom snowflake.snowpark.functions import *\nfrom snowflake.snowpark.types import *\nimport json\nimport pandas as pd\nimport numpy as np\nimport pydeck as pdk\n\n# Write directly to the app\nst.title(\"UK Analytics within the North of England :train:\")\nst.write(\n    \"\"\"This app shows key insight of places and events that may effect Northern Trains.\n    \"\"\"\n)\n\n# Get the current credentials\nsession = get_active_session()",
   "execution_count": null
  },
  {
   "cell_type": "code",
   "id": "6ae35d1e-9df6-486f-bdb7-e20e2996319b",
   "metadata": {
    "language": "python",
    "name": "n_trains_Data",
    "resultHeight": 0
   },
   "outputs": [],
   "source": "\ntrains_latlon = session.table('NORTHERN_TRAINS_STATION_DATA.TESTING.\"StationLatLong\"')\n\nst.markdown('#### A dataframe which shows all the train stations')\nst.dataframe(trains_latlon)\nst.map(trains_latlon, latitude='Latitude', longitude='Longitude')",
   "execution_count": null
  },
  {
   "cell_type": "code",
   "id": "50193e2a-6458-444c-8678-6bfa2843ed85",
   "metadata": {
    "language": "python",
    "name": "boundary_box",
    "collapsed": false,
    "resultHeight": 0
   },
   "outputs": [],
   "source": "#create a point from the coordinates\nenvelope = trains_latlon.with_column('POINT',call_function('ST_MAKEPOINT',col('\"Longitude\"'),col('\"Latitude\"')))\n\n#collect all the points into one row of data\nenvelope = envelope.select(call_function('ST_COLLECT',col('POINT')).alias('POINTS'))\n\n#### convert from geography to geometry\nenvelope = envelope.select(to_geometry('POINTS').alias('POINTS'))\n\n\n#create a rectangular shape which boarders the minimum possible size which covers all of the points\nenvelope = envelope.select(call_function('ST_ENVELOPE',col('POINTS')).alias('BOUNDARY'))\n\n#convert back to geography\nenvelope = envelope.select(to_geography('BOUNDARY').alias('BOUNDARY'))\nenvelope.collect()[0][0]",
   "execution_count": null
  },
  {
   "cell_type": "code",
   "id": "57a41783-d7c6-4ab6-8a53-557b6ecdab76",
   "metadata": {
    "language": "python",
    "name": "boundary_layer",
    "collapsed": false,
    "resultHeight": 423
   },
   "outputs": [],
   "source": "#find the centre point so the map will render from that location\n\ncentre = envelope.with_column('CENTROID',call_function('ST_CENTROID',col('BOUNDARY')))\ncentre = centre.with_column('LON',call_function('ST_X',col('CENTROID')))\ncentre = centre.with_column('LAT',call_function('ST_Y',col('CENTROID')))\n\n#create LON and LAT variables\n\ncentrepd = centre.select('LON','LAT').to_pandas()\nLON = centrepd.LON.iloc[0]\nLAT = centrepd.LAT.iloc[0]\n\n### transform the data in pandas so the pydeck visualisation tool can view it as a polygon\n\nenvelopepd = envelope.to_pandas()\nenvelopepd[\"coordinates\"] = envelopepd[\"BOUNDARY\"].apply(lambda row: json.loads(row)[\"coordinates\"][0])\n\n\n####visualise on a map\n\n#### create a layer - this layer will visualise the rectangle\n\npolygon_layer = pdk.Layer(\n            \"PolygonLayer\",\n            envelopepd,\n            opacity=0.3,\n            get_polygon=\"coordinates\",\n            filled=True,\n            get_fill_color=[16, 14, 40],\n            auto_highlight=True,\n            pickable=False,\n        )\n\n \n#### render the map \n    \nst.pydeck_chart(pdk.Deck(\n    map_style=None,\n    initial_view_state=pdk.ViewState(\n        latitude=LAT,\n        longitude=LON,\n        zoom=5,\n        height=400\n        ),\n    \nlayers= [polygon_layer]\n\n))\n",
   "execution_count": null
  },
  {
   "cell_type": "code",
   "id": "15848ee6-006a-4f8b-ba5a-d1f1487061ae",
   "metadata": {
    "language": "python",
    "name": "places_dataset",
    "collapsed": false,
    "resultHeight": 181
   },
   "outputs": [],
   "source": "places_1 = session.table('OVERTURE_MAPS__PLACES.CARTO.PLACE')\nplaces_1 = places_1.filter(col('ADDRESSES')['list'][0]['element']['country'] =='GB')\n\nplaces_1.limit(3)",
   "execution_count": null
  },
  {
   "cell_type": "code",
   "id": "c1036ff9-00aa-4bfc-8fce-22fc54685cd5",
   "metadata": {
    "language": "python",
    "name": "places_refined",
    "resultHeight": 426
   },
   "outputs": [],
   "source": "places_2 = places_1.select(col('NAMES')['primary'].astype(StringType()).alias('NAME'),\n                        col('PHONES')['list'][0]['element'].astype(StringType()).alias('PHONE'),\n                      col('CATEGORIES')['primary'].astype(StringType()).alias('CATEGORY'),\n                        col('CATEGORIES')['alternate']['list'][0]['element'].astype(StringType()).alias('ALTERNATE'),\n                    col('websites')['list'][0]['element'].astype(StringType()).alias('WEBSITE'),\n                      col('GEOMETRY'))\n                        \n\nplaces_2.limit(10)",
   "execution_count": null
  },
  {
   "cell_type": "code",
   "id": "53ad7f04-b3e8-4e2f-b297-c7be33519688",
   "metadata": {
    "language": "python",
    "name": "places_filtered_boundary",
    "collapsed": false,
    "resultHeight": 422
   },
   "outputs": [],
   "source": "places_3 = places_2.filter(col('CATEGORY') =='restaurant') ##changed fron train_station to restaurant\n\nplaces_3 = places_3.join(envelope,call_function('ST_WITHIN',places_3['GEOMETRY'],envelope['boundary']))\nplaces_3 = places_3.with_column('LON',call_function('ST_X',col('GEOMETRY')))\nplaces_3 = places_3.with_column('LAT',call_function('ST_Y',col('GEOMETRY')))\nst.write(places_3)",
   "execution_count": null
  },
  {
   "cell_type": "code",
   "id": "e1ab963c-2c8a-4b14-a425-79ae2e0ff86c",
   "metadata": {
    "language": "python",
    "name": "places_visualised",
    "collapsed": false,
    "resultHeight": 423
   },
   "outputs": [],
   "source": "placespd = places_3.to_pandas()\npoi_l = pdk.Layer(\n            'ScatterplotLayer',\n            data=placespd,\n            get_position='[LON, LAT]',\n            get_color='[255,255,255]',\n            get_radius=600,\n            pickable=True)\n\n#### render the map showing trainstations based on overture maps\n    \nst.pydeck_chart(pdk.Deck(\n    map_style=None,\n    initial_view_state=pdk.ViewState(\n        latitude=LAT,\n        longitude=LON,\n        zoom=5,\n        height=400\n        ),\n    \nlayers= [polygon_layer, poi_l], tooltip = {'text':\"Place Name: {NAME}, alternate: {ALTERNATE}\"}\n\n))",
   "execution_count": null
  },
  {
   "cell_type": "code",
   "id": "bbeb5c5b-9190-4143-8667-20f7bb1234e8",
   "metadata": {
    "language": "python",
    "name": "trains_visualised",
    "collapsed": false,
    "resultHeight": 423
   },
   "outputs": [],
   "source": "\ntrains_latlon_renamed = trains_latlon\n\ntrains_latlon_renamed = trains_latlon_renamed.with_column_renamed('\"CrsCode\"','NAME')\ntrains_latlon_renamed = trains_latlon_renamed.with_column_renamed('\"Postcode\"','ALTERNATE')\ntrains_latlon_renamed = trains_latlon_renamed.with_column_renamed('\"Latitude\"','LAT')\ntrains_latlon_renamed = trains_latlon_renamed.with_column_renamed('\"Longitude\"','LON')\ntrains_latlon_renamed_pd = trains_latlon_renamed.to_pandas()\n\nnw_trains_l = pdk.Layer(\n            'ScatterplotLayer',\n            data=trains_latlon_renamed_pd,\n            get_position='[LON, LAT]',\n            get_color='[0,187,255]',\n            get_radius=600,\n            pickable=True)\n\n#### render the map showing trainstations based on overture maps\n    \nst.pydeck_chart(pdk.Deck(\n    map_style=None,\n    initial_view_state=pdk.ViewState(\n        latitude=LAT,\n        longitude=LON,\n        zoom=5,\n        height=400\n        ),\n    \nlayers= [polygon_layer, poi_l, nw_trains_l], tooltip = {'text':\"Place Name: {NAME}, alternate: {ALTERNATE}\"}\n\n))",
   "execution_count": null
  },
  {
   "cell_type": "code",
   "id": "07b34c7d-5d81-41e1-829a-85394d16bd56",
   "metadata": {
    "language": "python",
    "name": "station_attributes",
    "collapsed": false,
    "resultHeight": 216
   },
   "outputs": [],
   "source": "further_train_info_1 = session.table('NORTHERN_TRAINS_STATION_DATA.TESTING.\"STATION ATTRIBUTES 2\"')\nfurther_train_info_1.limit(4)",
   "execution_count": null
  },
  {
   "cell_type": "markdown",
   "id": "b2896a6a-df7e-4c28-bb80-915133e45f17",
   "metadata": {
    "name": "cortex_description",
    "collapsed": false,
    "resultHeight": 41
   },
   "source": "Below we are leveraging Mistral-large2 to produce meaningful tooltips relating to over **400** train stations which are managed by **Northern Trains**"
  },
  {
   "cell_type": "code",
   "id": "541f969e-fa87-4c80-9632-c0ff0852b966",
   "metadata": {
    "language": "python",
    "name": "cortex_tooltip",
    "collapsed": false,
    "resultHeight": 251
   },
   "outputs": [],
   "source": "\nfurther_train_info_2= further_train_info_1.with_column('OBJECT',object_construct(lit('CRS Code'),\ncol('\"CRS Code\"'),\nlit('Full Timetable Calls'),\ncol('\"Dec21 Weekday Full Timetable Daily Calls\"').astype(IntegerType()),\nlit('Emergency Timetable Calls'),\ncol('\"Dec21 Weekday Emergency Timetable Daily Calls\"').astype(IntegerType()),\nlit('Footfall'),\ncol( '\"ORR Station Footfall 2020-21\"').astype(IntegerType()),\nlit('Parking'),\ncol('\"Car Parking - Free/Chargeable\"'),\nlit('MP'),\ncol(\"MP\"),\nlit(\"Political Party\"),\ncol('\"Political Party\"'),\nlit('MP Email Address'),\ncol('\"MP Email Address\"'),                                                                             \nlit('Car Parking Spaces'),\ncol('\"Car Parking Spaces\"').astype(IntegerType()),\nlit('Staffed?'),\ncol('\"Staffed?\"'))).cache_result()\n\nprompt = 'In less than 200 words, write a summary based on the following train station details.  \\\nThe trainstations are based in the North of England. \\\nOnly include Northern train station names in the description.'\nprompt2 = 'write in the best way for it to describe a point on a map.'\n\nfurther_train_info_2 = further_train_info_2.select('\"CRS Code\"',\n        'MP',\n        '\"Political Party\"', \n        '\"MP Email Address\"',\n        call_function('snowflake.cortex.complete','mistral-large2',\n            concat(lit(prompt),\n            col('OBJECT').astype(StringType()),\n            lit('prompt2'))).alias('ALTERNATE'))\n\nfurther_train_info_2.write.mode('overwrite').save_as_table(\"DATA.TRAIN_STATION_INFORMATION\")\nstation_info = session.table('DATA.TRAIN_STATION_INFORMATION')\nstation_info.limit(5)",
   "execution_count": null
  },
  {
   "cell_type": "code",
   "id": "74a50839-2809-4fb3-b079-7a0910590a1c",
   "metadata": {
    "language": "python",
    "name": "visualise_tooltip",
    "collapsed": false,
    "resultHeight": 723
   },
   "outputs": [],
   "source": "trains_latlon_renamed = trains_latlon\n\ntrains_latlon_renamed = trains_latlon_renamed.with_column_renamed('\"CrsCode\"','NAME')\ntrains_latlon_renamed = trains_latlon_renamed.with_column_renamed('\"Latitude\"','LAT')\ntrains_latlon_renamed = trains_latlon_renamed.with_column_renamed('\"Longitude\"','LON')\n\nstation_info = session.table('DATA.TRAIN_STATION_INFORMATION')\n\ntrains_latlon_renamed = trains_latlon_renamed.join(station_info,station_info['\"CRS Code\"']==trains_latlon_renamed['NAME']).drop('\"CRS Code\"')\ntrains_latlon_renamed_pd = trains_latlon_renamed.to_pandas()\n\nnw_trains_l = pdk.Layer(\n            'ScatterplotLayer',\n            data=trains_latlon_renamed_pd,\n            get_position='[LON, LAT]',\n            get_color='[0,187,2]',\n            get_radius=600,\n            pickable=True)\n\n#### render the map showing trainstations based on overture maps\n\ntooltip = {\n   \"html\": \"\"\"<b>Name:</b> {NAME} <br> <b>Alternate:</b> {ALTERNATE}\"\"\",\n   \"style\": {\n       \"width\":\"50%\",\n        \"backgroundColor\": \"steelblue\",\n        \"color\": \"white\",\n       \"text-wrap\": \"balance\"\n   }\n}\n    \nst.pydeck_chart(pdk.Deck(\n    map_style=None,\n    initial_view_state=pdk.ViewState(\n        latitude=LAT,\n        longitude=LON,\n        zoom=5,\n        height=700\n        ),\n    \nlayers= [polygon_layer, poi_l, nw_trains_l], tooltip = tooltip\n\n))",
   "execution_count": null
  },
  {
   "cell_type": "code",
   "id": "76dc17a1-e0d5-4022-83e1-be99e5b6858a",
   "metadata": {
    "language": "python",
    "name": "cortex_events",
    "collapsed": false,
    "resultHeight": 111
   },
   "outputs": [],
   "source": "json1 = '''{\"DATE\":\"YYYY-MM-DD\", \"NAME\":\"event\",DESCRIPTION:\"describe what the event is\" \"CENTROID\":{\n  \"coordinates\": [\n    0.000000<<<this needs to be longitude,\n    0.000000<<<<this needs to be latitude\n  ],\n  \"type\": \"Point\"\n},\"COLOR\":\"Random bright and unique color in RGB presented in an array\"}'''\n\n\nprompt = f''' Retrieve 6 events within different cities of the north of england and will happen in 2024.  do not include commentary or notes retrive this in the following json format {json1}  '''\nevents_1 = session.create_dataframe([{'prompt':prompt}])\n\nevents_1 = events_1.select(call_function('SNOWFLAKE.CORTEX.COMPLETE','mistral-large2',prompt).alias('EVENT_DATA'))\n\nevents_1 = events_1.with_column('EVENT_DATA',replace(col('EVENT_DATA'),lit('''```json'''),lit('')))\nevents_1 = events_1.with_column('EVENT_DATA',replace(col('EVENT_DATA'),lit('''```'''),lit('')))\n\nevents_1.write.mode('overwrite').save_as_table(\"DATA.EVENTS_IN_THE_NORTH\")\nsession.table('DATA.EVENTS_IN_THE_NORTH')",
   "execution_count": null
  },
  {
   "cell_type": "code",
   "id": "7f0d6a0c-1cf5-4b28-b6e7-f59b691bee64",
   "metadata": {
    "language": "python",
    "name": "events_normalized",
    "collapsed": false,
    "resultHeight": 286
   },
   "outputs": [],
   "source": "events_2 = session.table('DATA.EVENTS_IN_THE_NORTH')\nevents_2 = events_2.join_table_function('flatten',parse_json('EVENT_DATA')).select('VALUE')\nevents_2=events_2.with_column('NAME',col('VALUE')['NAME'].astype(StringType()))\nevents_2=events_2.with_column('DESCRIPTION',col('VALUE')['DESCRIPTION'].astype(StringType()))\nevents_2=events_2.with_column('CENTROID',to_geography(col('VALUE')['CENTROID']))\nevents_2=events_2.with_column('COLOR',col('VALUE')['COLOR'])\nevents_2=events_2.with_column('DATE',col('VALUE')['DATE'].astype(DateType())).drop('VALUE')\nevents_2",
   "execution_count": null
  },
  {
   "cell_type": "code",
   "id": "5a70e8de-559a-48d1-94bb-13a793f7c909",
   "metadata": {
    "language": "python",
    "name": "h3index",
    "collapsed": false,
    "resultHeight": 286
   },
   "outputs": [],
   "source": "\nevents_3=events_2.with_column('H3',call_function('H3_POINT_TO_CELL_STRING',col('CENTROID'),lit(5)))\n\nevents_3",
   "execution_count": null
  },
  {
   "cell_type": "code",
   "id": "f6be21ad-648a-403d-87b1-8ae8c500ac20",
   "metadata": {
    "language": "python",
    "name": "visualise_h3",
    "collapsed": false,
    "resultHeight": 894
   },
   "outputs": [],
   "source": "events = events_3.with_column('R',col('COLOR')[0])\nevents = events.with_column('G',col('COLOR')[1])\nevents = events.with_column('B',col('COLOR')[2])\nevents = events.with_column_renamed('DESCRIPTION','ALTERNATE')\neventspd = events.group_by('H3','NAME','ALTERNATE','R','G','B').count().to_pandas()\n\nst.write(eventspd)\n\nh3_events = pdk.Layer(\n        \"H3HexagonLayer\",\n        eventspd,\n        pickable=True,\n        stroked=True,\n        filled=True,\n        extruded=False,\n        get_hexagon=\"H3\",\n        get_fill_color=[\"255-R\",\"255-G\",\"255-B\"],\n        line_width_min_pixels=2,\n        opacity=0.4)\n\n#### render the map showing trainstations based on overture maps\n\ntooltip = {\n   \"html\": \"\"\"<b>Name:</b> {NAME} <br> <b>Alternate:</b> {ALTERNATE}\"\"\",\n   \"style\": {\n       \"width\":\"50%\",\n        \"backgroundColor\": \"steelblue\",\n        \"color\": \"white\",\n       \"text-wrap\": \"balance\"\n   }\n}\n\nst.pydeck_chart(pdk.Deck(\n    map_style=None,\n    initial_view_state=pdk.ViewState(\n        latitude=LAT,\n        longitude=LON,\n        zoom=5,\n        height=600\n        ),\n    \nlayers= [polygon_layer, poi_l, h3_events,nw_trains_l, ], tooltip = tooltip\n\n))",
   "execution_count": null
  },
  {
   "cell_type": "code",
   "id": "549a030f-563b-4cbb-86fd-cff76ef232f7",
   "metadata": {
    "language": "python",
    "name": "affected_by_events",
    "collapsed": false,
    "resultHeight": 601
   },
   "outputs": [],
   "source": "\ntrains_h3 = trains_latlon_renamed.with_column('H3',call_function('H3_LATLNG_TO_CELL_STRING',col('LAT'),col('LON'),lit(5)))\ntrains_h3 = trains_h3.join(events.select('H3',col('NAME').alias('EVENT_NAME'),'DATE'),'H3')\n\nst.markdown('#### Affected Train Stations')\nst.write(trains_h3.limit(1))\nplaces_h3 = places_3.with_column('H3',call_function('H3_POINT_TO_CELL_STRING',col('GEOMETRY'),lit(5)))\nplaces_h3 = places_h3.join(events.select('H3','CENTROID',col('NAME').alias('EVENT_NAME'),'DATE'),'H3')\nplaces_h3 = places_h3.with_column('DISTANCE_FROM_EVENT',call_function('ST_DISTANCE',col('CENTROID'),col('GEOMETRY')))\nplaces_h3 = places_h3.filter(col('DISTANCE_FROM_EVENT')< 3000)\nplaces_h3 = places_h3.sort(col('DISTANCE_FROM_EVENT').asc())\nst.markdown('#### Affected Restaurants')                             \nst.write(places_h3.limit(10))\n",
   "execution_count": null
  },
  {
   "cell_type": "code",
   "id": "aa31d0e4-f057-4b5d-8375-96a4b40483fa",
   "metadata": {
    "language": "python",
    "name": "letter_restaurants",
    "collapsed": false,
    "resultHeight": 438
   },
   "outputs": [],
   "source": "object3 = trains_h3.select('H3','MP','\"MP Email Address\"').distinct()\nobject3 = places_h3.join(object3,'H3')  \nobject3 = object3.group_by('MP','\"MP Email Address\"').agg(array_agg(object_construct(lit('NAME'),\n                                                                col('NAME'),\n                                                                lit('DISTANCE_FROM_EVENT'),\n                                                                round('DISTANCE_FROM_EVENT',5).astype(DecimalType(20,4)),\n                                                                lit('PHONE'),\n                                                                col('PHONE'),\n                                                               lit('WEBSITE'),\n                                                               col('WEBSITE'))).within_group('MP').alias('RESTAURANTS'))\nobject3\n",
   "execution_count": null
  },
  {
   "cell_type": "code",
   "id": "e513cc8b-c4d0-4d12-8519-e76d1d0b420a",
   "metadata": {
    "language": "python",
    "name": "letter_trains",
    "collapsed": false,
    "resultHeight": 438
   },
   "outputs": [],
   "source": "object1 = trains_h3.group_by('MP').agg(array_agg(object_construct(lit('Train Station information'),col('ALTERNATE'))).within_group('MP').alias('TRAIN_STATIONS'))\nobject1",
   "execution_count": null
  },
  {
   "cell_type": "code",
   "id": "cfa9d9c8-ecd2-4183-93d7-49adc158011d",
   "metadata": {
    "language": "python",
    "name": "letter_events",
    "collapsed": false,
    "resultHeight": 438
   },
   "outputs": [],
   "source": "object2 = trains_h3.select('MP','EVENT_NAME','DATE').distinct()\nobject2 = object2.group_by('MP').agg(array_agg(object_construct(lit('EVENT'),col('EVENT_NAME'),lit('DATE'),col('DATE'))).within_group('MP').alias('EVENTS'))\nobject2",
   "execution_count": null
  },
  {
   "cell_type": "code",
   "id": "1a91073a-4407-4452-aa2e-64a4afce9be9",
   "metadata": {
    "language": "python",
    "name": "letter_object",
    "collapsed": false,
    "resultHeight": 438
   },
   "outputs": [],
   "source": "all_3 = object1.join(object2,'MP')\nall_3 = all_3.join(object3,'MP')\n\nall_3.write.mode('overwrite').save_as_table(\"DATA.EVENTS_AND_WHAT_IS_AFFECTED\")\nsession.table('DATA.EVENTS_AND_WHAT_IS_AFFECTED')",
   "execution_count": null
  },
  {
   "cell_type": "code",
   "id": "4d69e317-cd46-4840-87d6-c1b2cd4b21f8",
   "metadata": {
    "language": "python",
    "name": "filt_restaurant_obj",
    "collapsed": false,
    "resultHeight": 438
   },
   "outputs": [],
   "source": "all_4 = session.table(\"DATA.EVENTS_AND_WHAT_IS_AFFECTED\")\nall_4 = all_4.select('MP','\"MP Email Address\"','TRAIN_STATIONS','EVENTS',\n                     \narray_slice(col('RESTAURANTS'),lit(0),lit(8)).alias('RESTAURANTS'))\n\n          \nall_4",
   "execution_count": null
  },
  {
   "cell_type": "code",
   "id": "c4f9bd82-416d-486e-8aaa-5ba8ba8b134b",
   "metadata": {
    "language": "python",
    "name": "prompt_letter",
    "collapsed": false,
    "resultHeight": 155
   },
   "outputs": [],
   "source": "col1,col2,col3, col4 = st.columns(4)\n\nwith col1:\n    name = st.text_input('Name:','''Becky O'Connor''')\nwith col2:\n    email = st.text_input('Email:','becky.oconnor@snowflake.com')\nwith col3:\n    title = st.text_input('Title:','a concerned Citizen')\nwith col4:\n    style = st.text_input('Style:','a worried resident')\n\n\nprompt = concat(lit('Write an email addressed to this MP:'),\n                lit('in the style of '),\n                lit(style),\n                col('MP'),\n               lit('about these events: '),\n               col('EVENTS').astype(StringType()),\n               lit('effecting these stations: '),\n               col('TRAIN_STATIONS').astype(StringType()),\n                lit('And these Restaurants: '),\n                col('RESTAURANTS').astype(StringType()),\n               lit(f'''The letter is written by {name} - {email} - {title}'''))\n\nst.info(f'''Letters will be generated from {name} - {email} - {title} in the style of {style}''')",
   "execution_count": null
  },
  {
   "cell_type": "code",
   "id": "f1834e6d-ab1d-42e8-99ea-f7d97e82bafb",
   "metadata": {
    "language": "python",
    "name": "cortex_letter",
    "collapsed": false,
    "resultHeight": 0
   },
   "outputs": [],
   "source": "letters = all_4.select('MP','\"MP Email Address\"', call_function('SNOWFLAKE.CORTEX.COMPLETE','mixtral-8x7b',prompt).alias('LETTER'))\nletters.write.mode('overwrite').save_as_table(\"DATA.LETTERS_TO_MP\")",
   "execution_count": null
  },
  {
   "cell_type": "code",
   "id": "64ffc15f-5a4a-4ec7-9518-696c167de986",
   "metadata": {
    "language": "python",
    "name": "new_letters",
    "collapsed": false,
    "resultHeight": 438
   },
   "outputs": [],
   "source": "letters = session.table('DATA.LETTERS_TO_MP')\nletters",
   "execution_count": null
  },
  {
   "cell_type": "code",
   "id": "921a7c5b-5f8b-4033-8138-f1887aef1476",
   "metadata": {
    "language": "python",
    "name": "letter_reader",
    "resultHeight": 961
   },
   "outputs": [],
   "source": "letterspd = letters.to_pandas()\nselected_letter = st.slider('Choose Letter:',0,letterspd.shape[0]-1,1)\nst.markdown(f''' **Email**: {letterspd['MP Email Address'].iloc[selected_letter]}''')\nst.write()\nst.write(letterspd.LETTER.iloc[selected_letter])",
   "execution_count": null
  }
 ]
}
