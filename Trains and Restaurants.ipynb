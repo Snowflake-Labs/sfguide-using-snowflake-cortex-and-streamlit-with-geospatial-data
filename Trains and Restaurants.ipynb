{
 "cells": [
  {
   "cell_type": "code",
   "execution_count": null,
   "id": "9e8af94f-23f7-42b4-b647-000b6a89cb79",
   "metadata": {
    "collapsed": false,
    "language": "python",
    "name": "libraries"
   },
   "outputs": [],
   "source": [
    "# Import python packages\n",
    "import streamlit as st\n",
    "from snowflake.snowpark.context import get_active_session\n",
    "from snowflake.snowpark.functions import max,min,avg,call_function, split,substr,hour,concat,col,sqrt,lit,array_slice,array_agg,object_construct,parse_json, to_geography, to_array,to_date, round\n",
    "from snowflake.snowpark.types import StringType,VariantType, DateType, IntegerType,DecimalType\n",
    "import json\n",
    "import pandas as pd\n",
    "import numpy as np\n",
    "import pydeck as pdk\n",
    "\n",
    "# Write directly to the app\n",
    "st.title(\"UK Analytics within the North of England :train:\")\n",
    "st.write(\n",
    "    \"\"\"This app shows key insight of places and events that may effect Northern Trains.\n",
    "    \"\"\"\n",
    ")\n",
    "\n",
    "# Get the current credentials\n",
    "session = get_active_session()"
   ]
  },
  {
   "cell_type": "code",
   "execution_count": null,
   "id": "aab6d649-b557-41e5-8f3f-56439f5b4754",
   "metadata": {
    "collapsed": false,
    "language": "python",
    "name": "n_trains_data"
   },
   "outputs": [],
   "source": [
    "trains_latlon = session.table('NORTHERN_TRAINS_STATION_DATA.TESTING.\"StationLatLong\"')\n",
    "\n",
    "st.markdown('#### A dataframe which shows all the train stations')\n",
    "st.dataframe(trains_latlon)\n",
    "st.map(trains_latlon, latitude='Latitude', longitude='Longitude')\n"
   ]
  },
  {
   "cell_type": "code",
   "execution_count": null,
   "id": "10070326-121a-417d-85a4-52154289db4d",
   "metadata": {
    "collapsed": false,
    "language": "python",
    "name": "boundary_box"
   },
   "outputs": [],
   "source": [
    "#create a point from the coordinates\n",
    "envelope = trains_latlon.with_column('POINT',call_function('ST_MAKEPOINT',col('\"Longitude\"'),col('\"Latitude\"')))\n",
    "\n",
    "#collect all the points into one row of data\n",
    "envelope = envelope.select(call_function('ST_COLLECT',col('POINT')).alias('POINTS'))\n",
    "\n",
    "#create a rectangular shape which boarders the minimum possible size which covers all of the points\n",
    "envelope = envelope.select(call_function('ST_ENVELOPE',col('POINTS')).alias('BOUNDARY'))\n",
    "envelope.collect()[0][0]"
   ]
  },
  {
   "cell_type": "code",
   "execution_count": null,
   "id": "ee97774e-93e1-444b-8ee1-113d12fa73f5",
   "metadata": {
    "collapsed": false,
    "language": "python",
    "name": "boundary_layer"
   },
   "outputs": [],
   "source": [
    "#find the centre point so the map will render from that location\n",
    "\n",
    "centre = envelope.with_column('CENTROID',call_function('ST_CENTROID',col('BOUNDARY')))\n",
    "centre = centre.with_column('LON',call_function('ST_X',col('CENTROID')))\n",
    "centre = centre.with_column('LAT',call_function('ST_Y',col('CENTROID')))\n",
    "\n",
    "#create LON and LAT variables\n",
    "\n",
    "centrepd = centre.select('LON','LAT').to_pandas()\n",
    "LON = centrepd.LON.iloc[0]\n",
    "LAT = centrepd.LAT.iloc[0]\n",
    "\n",
    "### transform the data in pandas so the pydeck visualisation tool can view it as a polygon\n",
    "\n",
    "envelopepd = envelope.to_pandas()\n",
    "envelopepd[\"coordinates\"] = envelopepd[\"BOUNDARY\"].apply(lambda row: json.loads(row)[\"coordinates\"][0])\n",
    "\n",
    "\n",
    "####visualise on a map\n",
    "\n",
    "#### create a layer - this layer will visualise the rectangle\n",
    "\n",
    "polygon_layer = pdk.Layer(\n",
    "            \"PolygonLayer\",\n",
    "            envelopepd,\n",
    "            opacity=0.3,\n",
    "            get_polygon=\"coordinates\",\n",
    "            filled=True,\n",
    "            get_fill_color=[16, 14, 40],\n",
    "            auto_highlight=True,\n",
    "            pickable=False,\n",
    "        )\n",
    "\n",
    " \n",
    "#### render the map \n",
    "    \n",
    "st.pydeck_chart(pdk.Deck(\n",
    "    map_style=None,\n",
    "    initial_view_state=pdk.ViewState(\n",
    "        latitude=LAT,\n",
    "        longitude=LON,\n",
    "        zoom=5,\n",
    "        height=400\n",
    "        ),\n",
    "    \n",
    "layers= [polygon_layer]\n",
    "\n",
    "))"
   ]
  },
  {
   "cell_type": "code",
   "execution_count": null,
   "id": "97b311f8-50d8-4288-b3e9-ae7512d41a26",
   "metadata": {
    "collapsed": false,
    "language": "python",
    "name": "places_dataset"
   },
   "outputs": [],
   "source": [
    "places = session.table('OVERTURE_MAPS__PLACES.CARTO.PLACE')\n",
    "places = places.filter(col('ADDRESSES')['list'][0]['element']['country'] =='GB')\n",
    "\n",
    "places.limit(3)"
   ]
  },
  {
   "cell_type": "code",
   "execution_count": null,
   "id": "d12e447d-7a7c-4093-b29d-e6abbdf08881",
   "metadata": {
    "collapsed": false,
    "language": "python",
    "name": "places_refined"
   },
   "outputs": [],
   "source": [
    "places = places.select(col('NAMES')['primary'].astype(StringType()).alias('NAME'),\n",
    "                        col('PHONES')['list'][0]['element'].astype(StringType()).alias('PHONE'),\n",
    "                      col('CATEGORIES')['primary'].astype(StringType()).alias('CATEGORY'),\n",
    "                        col('CATEGORIES')['alternate']['list'][0]['element'].astype(StringType()).alias('ALTERNATE'),\n",
    "                    col('websites')['list'][0]['element'].astype(StringType()).alias('WEBSITE'),\n",
    "                      col('GEOMETRY'))\n",
    "                        \n",
    "\n",
    "places.limit(10)"
   ]
  },
  {
   "cell_type": "code",
   "execution_count": null,
   "id": "74a8760f-8801-474b-b2b5-7959f54cee53",
   "metadata": {
    "collapsed": false,
    "language": "python",
    "name": "places_filter_bounds"
   },
   "outputs": [],
   "source": [
    "places = places.filter(col('CATEGORY') =='train_station')\n",
    "\n",
    "places = places.join(envelope,call_function('ST_WITHIN',places['GEOMETRY'],envelope['boundary']))\n",
    "places = places.with_column('LON',call_function('ST_X',col('GEOMETRY')))\n",
    "places = places.with_column('LAT',call_function('ST_Y',col('GEOMETRY')))\n",
    "st.write(places)"
   ]
  },
  {
   "cell_type": "code",
   "execution_count": null,
   "id": "e7c49efd-be4a-4b9c-a74b-468bd4c5a3c8",
   "metadata": {
    "collapsed": false,
    "language": "python",
    "name": "places_visualised"
   },
   "outputs": [],
   "source": [
    "placespd = places.to_pandas()\n",
    "poi_l = pdk.Layer(\n",
    "            'ScatterplotLayer',\n",
    "            data=placespd,\n",
    "            get_position='[LON, LAT]',\n",
    "            get_color='[255,255,255]',\n",
    "            get_radius=600,\n",
    "            pickable=True)\n",
    "\n",
    "#### render the map showing trainstations based on overture maps\n",
    "    \n",
    "st.pydeck_chart(pdk.Deck(\n",
    "    map_style=None,\n",
    "    initial_view_state=pdk.ViewState(\n",
    "        latitude=LAT,\n",
    "        longitude=LON,\n",
    "        zoom=5,\n",
    "        height=400\n",
    "        ),\n",
    "    \n",
    "layers= [polygon_layer, poi_l], tooltip = {'text':\"Place Name: {NAME}, alternate: {ALTERNATE}\"}\n",
    "\n",
    "))\n"
   ]
  },
  {
   "cell_type": "code",
   "execution_count": null,
   "id": "d1298bac-5542-42b0-b193-4507ec86136f",
   "metadata": {
    "collapsed": false,
    "language": "python",
    "name": "trains_visualised"
   },
   "outputs": [],
   "source": [
    "trains_latlon_renamed = trains_latlon\n",
    "\n",
    "trains_latlon_renamed = trains_latlon_renamed.with_column_renamed('\"CrsCode\"','NAME')\n",
    "trains_latlon_renamed = trains_latlon_renamed.with_column_renamed('\"Postcode\"','ALTERNATE')\n",
    "trains_latlon_renamed = trains_latlon_renamed.with_column_renamed('\"Latitude\"','LAT')\n",
    "trains_latlon_renamed = trains_latlon_renamed.with_column_renamed('\"Longitude\"','LON')\n",
    "trains_latlon_renamed_pd = trains_latlon_renamed.to_pandas()\n",
    "\n",
    "nw_trains_l = pdk.Layer(\n",
    "            'ScatterplotLayer',\n",
    "            data=trains_latlon_renamed_pd,\n",
    "            get_position='[LON, LAT]',\n",
    "            get_color='[0,187,255]',\n",
    "            get_radius=600,\n",
    "            pickable=True)\n",
    "\n",
    "#### render the map showing trainstations based on overture maps\n",
    "    \n",
    "st.pydeck_chart(pdk.Deck(\n",
    "    map_style=None,\n",
    "    initial_view_state=pdk.ViewState(\n",
    "        latitude=LAT,\n",
    "        longitude=LON,\n",
    "        zoom=5,\n",
    "        height=400\n",
    "        ),\n",
    "    \n",
    "layers= [polygon_layer, poi_l, nw_trains_l], tooltip = {'text':\"Place Name: {NAME}, alternate: {ALTERNATE}\"}\n",
    "\n",
    "))\n"
   ]
  },
  {
   "cell_type": "code",
   "execution_count": null,
   "id": "57033c5b-61c4-463d-a867-f44eba84ed02",
   "metadata": {
    "collapsed": false,
    "language": "python",
    "name": "station_attributes"
   },
   "outputs": [],
   "source": [
    "further_train_info = session.table('NORTHERN_TRAINS_STATION_DATA.TESTING.\"STATION ATTRIBUTES 1\"')\n",
    "further_train_info.limit(4)"
   ]
  },
  {
   "cell_type": "markdown",
   "id": "8e8a3394-9f02-4b60-8281-2f708f1eeee9",
   "metadata": {
    "collapsed": false,
    "name": "cortex_description"
   },
   "source": [
    ">Below we are leveraging Snowflake Arctic to produce meaningfull tooltips relating to over **400** train stations which are managed by **Northern Trains**"
   ]
  },
  {
   "cell_type": "code",
   "execution_count": null,
   "id": "2f689ffb-adf7-4e87-8102-8a3c1db92d05",
   "metadata": {
    "language": "python",
    "name": "cortex_tooltip"
   },
   "outputs": [],
   "source": [
    "further_train_info= further_train_info.with_column('OBJECT',object_construct(lit('CRS Code'),\n",
    "col('\"CRS Code\"'),                                                                           lit('Full Timetable Calls'),\n",
    "col('\"Dec21 Weekday Full Timetable Daily Calls\"').astype(IntegerType()),                                                                        lit('Emergency Timetable Calls'),                                                                        col('\"Dec21 Weekday Emergency Timetable Daily Calls\"').astype(IntegerType()),                                                                           lit('Footfall'),\n",
    " col( '\"ORR Station Footfall 2020-21\"').astype(IntegerType()),\n",
    "lit('Parking'),\n",
    "col('\"Car Parking - Free/Chargeable\"'),\n",
    "lit('MP'),\n",
    "col(\"MP\"),\n",
    "lit(\"Political Party\"),\n",
    " col('\"Political Party\"'),\n",
    "lit('Car Parking Spaces'),\n",
    "col('\"Car Parking Spaces\"').astype(IntegerType()),\n",
    "lit('Staffed?'),\n",
    "col('\"Staffed?\"')))\n",
    "\n",
    "prompt = 'In less than 200 words, write a summary based on the following information'\n",
    "prompt2 = 'Do not include Based on the provided information'\n",
    "\n",
    "further_train_info = further_train_info.select('\"CRS Code\"',\n",
    "        'MP',\n",
    "        '\"Political Party\"', \n",
    "        call_function('snowflake.cortex.complete','snowflake-arctic',\n",
    "            concat(lit(prompt),\n",
    "            col('OBJECT').astype(StringType()),\n",
    "            lit('prompt2'))).alias('ALTERNATE'))\n",
    "\n",
    "#further_train_info.write.mode('overwrite').save_as_table(\"DATA.TRAIN_STATION_INFORMATION\")\n",
    "#session.table('DATA.TRAIN_STATION_INFORMATION')"
   ]
  },
  {
   "cell_type": "code",
   "execution_count": null,
   "id": "c88b84d6-71e1-4634-8c83-494ea07f6598",
   "metadata": {
    "collapsed": false,
    "language": "python",
    "name": "visualise_tooltip"
   },
   "outputs": [],
   "source": [
    "trains_latlon_renamed = trains_latlon\n",
    "\n",
    "trains_latlon_renamed = trains_latlon_renamed.with_column_renamed('\"CrsCode\"','NAME')\n",
    "trains_latlon_renamed = trains_latlon_renamed.with_column_renamed('\"Latitude\"','LAT')\n",
    "trains_latlon_renamed = trains_latlon_renamed.with_column_renamed('\"Longitude\"','LON')\n",
    "\n",
    "station_info = session.table('DATA.TRAIN_STATION_INFORMATION')\n",
    "\n",
    "trains_latlon_renamed = trains_latlon_renamed.join(station_info,station_info['\"CRS Code\"']==trains_latlon_renamed['NAME']).drop('\"CRS Code\"')\n",
    "trains_latlon_renamed_pd = trains_latlon_renamed.to_pandas()\n",
    "\n",
    "nw_trains_l = pdk.Layer(\n",
    "            'ScatterplotLayer',\n",
    "            data=trains_latlon_renamed_pd,\n",
    "            get_position='[LON, LAT]',\n",
    "            get_color='[0,187,2]',\n",
    "            get_radius=600,\n",
    "            pickable=True)\n",
    "\n",
    "#### render the map showing trainstations based on overture maps\n",
    "\n",
    "tooltip = {\n",
    "   \"html\": \"\"\"<b>Name:</b> {NAME} <br> <b>Alternate:</b> {ALTERNATE}\"\"\",\n",
    "   \"style\": {\n",
    "       \"width\":\"50%\",\n",
    "        \"backgroundColor\": \"steelblue\",\n",
    "        \"color\": \"white\",\n",
    "       \"text-wrap\": \"balance\"\n",
    "   }\n",
    "}\n",
    "    \n",
    "st.pydeck_chart(pdk.Deck(\n",
    "    map_style=None,\n",
    "    initial_view_state=pdk.ViewState(\n",
    "        latitude=LAT,\n",
    "        longitude=LON,\n",
    "        zoom=5,\n",
    "        height=700\n",
    "        ),\n",
    "    \n",
    "layers= [polygon_layer, poi_l, nw_trains_l], tooltip = tooltip\n",
    "\n",
    "))"
   ]
  },
  {
   "cell_type": "code",
   "execution_count": null,
   "id": "ef773039-a39d-4a09-b5a3-ede2d33e1c58",
   "metadata": {
    "codeCollapsed": false,
    "collapsed": false,
    "language": "python",
    "name": "cortex_events"
   },
   "outputs": [],
   "source": [
    "json1 = '''{\"DATE\":\"YYYY-MM-DD\", \"NAME\":\"event\",DESCRIPTION:\"describe what the event is\" \"CENTROID\":{\n",
    "  \"coordinates\": [\n",
    "    0.000000<<<this needs to be longitude,\n",
    "    0.000000<<<<this needs to be latitude\n",
    "  ],\n",
    "  \"type\": \"Point\"\n",
    "},\"COLOR\":\"Random bright and unique color in RGB presented in an array\"}'''\n",
    "\n",
    "\n",
    "prompt = f''' Retrieve 6 events within the north of england and will happen in 2024.  do not include commentary or notes retrive this in the following json format {json1}  '''\n",
    "events = session.create_dataframe([{'prompt':prompt}])\n",
    "\n",
    "events = events.select(call_function('SNOWFLAKE.CORTEX.COMPLETE','snowflake-arctic',prompt).alias('EVENT_DATA'))\n",
    "\n",
    "events.write.mode('overwrite').save_as_table(\"DATA.EVENTS_IN_THE_NORTH\")\n",
    "session.table('DATA.EVENTS_IN_THE_NORTH')"
   ]
  },
  {
   "cell_type": "code",
   "execution_count": null,
   "id": "0c97f89e-57fc-496f-be5b-63f1f02cdec9",
   "metadata": {
    "collapsed": false,
    "language": "python",
    "name": "events_normalised"
   },
   "outputs": [],
   "source": [
    "events = session.table('DATA.EVENTS_IN_THE_NORTH')\n",
    "events = events.join_table_function('flatten',parse_json('EVENT_DATA')).select('VALUE')\n",
    "events=events.with_column('NAME',col('VALUE')['NAME'].astype(StringType()))\n",
    "events=events.with_column('DESCRIPTION',col('VALUE')['DESCRIPTION'].astype(StringType()))\n",
    "events=events.with_column('CENTROID',to_geography(col('VALUE')['CENTROID']))\n",
    "events=events.with_column('COLOR',col('VALUE')['COLOR'])\n",
    "events=events.with_column('DATE',col('VALUE')['DATE'].astype(DateType())).drop('VALUE')\n",
    "events"
   ]
  },
  {
   "cell_type": "code",
   "execution_count": null,
   "id": "21d5f0d4-0887-47fa-8158-221372482a65",
   "metadata": {
    "collapsed": false,
    "language": "python",
    "name": "h3index"
   },
   "outputs": [],
   "source": [
    "events=events.with_column('H3',call_function('H3_POINT_TO_CELL_STRING',col('CENTROID'),lit(5)))\n",
    "\n",
    "events"
   ]
  },
  {
   "cell_type": "code",
   "execution_count": null,
   "id": "29e2e1ab-9624-4a47-b77f-42960403d1b2",
   "metadata": {
    "collapsed": false,
    "language": "python",
    "name": "visualise_h3"
   },
   "outputs": [],
   "source": [
    "events = events.with_column('R',col('COLOR')[0])\n",
    "events = events.with_column('G',col('COLOR')[1])\n",
    "events = events.with_column('B',col('COLOR')[2])\n",
    "events = events.with_column_renamed('DESCRIPTION','ALTERNATE')\n",
    "eventspd = events.group_by('H3','NAME','ALTERNATE','R','G','B').count().to_pandas()\n",
    "\n",
    "st.write(eventspd)\n",
    "\n",
    "h3_events = pdk.Layer(\n",
    "        \"H3HexagonLayer\",\n",
    "        eventspd,\n",
    "        pickable=True,\n",
    "        stroked=True,\n",
    "        filled=True,\n",
    "        extruded=False,\n",
    "        get_hexagon=\"H3\",\n",
    "        get_fill_color=[\"255-R\",\"255-G\",\"255-B\"],\n",
    "        line_width_min_pixels=2,\n",
    "        opacity=0.4)\n",
    "\n",
    "#### render the map showing trainstations based on overture maps\n",
    "\n",
    "tooltip = {\n",
    "   \"html\": \"\"\"<b>Name:</b> {NAME} <br> <b>Alternate:</b> {ALTERNATE}\"\"\",\n",
    "   \"style\": {\n",
    "       \"width\":\"50%\",\n",
    "        \"backgroundColor\": \"steelblue\",\n",
    "        \"color\": \"white\",\n",
    "       \"text-wrap\": \"balance\"\n",
    "   }\n",
    "}\n",
    "\n",
    "st.pydeck_chart(pdk.Deck(\n",
    "    map_style=None,\n",
    "    initial_view_state=pdk.ViewState(\n",
    "        latitude=LAT,\n",
    "        longitude=LON,\n",
    "        zoom=5,\n",
    "        height=600\n",
    "        ),\n",
    "    \n",
    "layers= [polygon_layer, poi_l, h3_events,nw_trains_l, ], tooltip = tooltip\n",
    "\n",
    "))"
   ]
  },
  {
   "cell_type": "code",
   "execution_count": null,
   "id": "dfbfd497-b0b9-41e8-92ab-6f17a24b3469",
   "metadata": {
    "collapsed": false,
    "language": "python",
    "name": "affected_by_events"
   },
   "outputs": [],
   "source": [
    "trains_h3 = trains_latlon_renamed.with_column('H3',call_function('H3_LATLNG_TO_CELL_STRING',col('LAT'),col('LON'),lit(5)))\n",
    "trains_h3 = trains_h3.join(events.select('H3',col('NAME').alias('EVENT_NAME'),'DATE'),'H3')\n",
    "\n",
    "st.markdown('#### Affected Train Stations')\n",
    "st.write(trains_h3.limit(1))\n",
    "places_h3 = places.with_column('H3',call_function('H3_POINT_TO_CELL_STRING',col('GEOMETRY'),lit(5)))\n",
    "places_h3 = places_h3.join(events.select('H3','CENTROID',col('NAME').alias('EVENT_NAME'),'DATE'),'H3')\n",
    "places_h3 = places_h3.with_column('DISTANCE_FROM_EVENT',call_function('ST_DISTANCE',col('CENTROID'),col('GEOMETRY')))\n",
    "places_h3 = places_h3.filter(col('DISTANCE_FROM_EVENT')< 3000)\n",
    "places_h3 = places_h3.sort(col('DISTANCE_FROM_EVENT').asc())\n",
    "st.markdown('#### Affected Restaurants')                             \n",
    "st.write(places_h3.limit(10))"
   ]
  },
  {
   "cell_type": "code",
   "execution_count": null,
   "id": "50853e5e-166d-4974-91df-16f7940174ef",
   "metadata": {
    "collapsed": false,
    "language": "python",
    "name": "letter_restaurant"
   },
   "outputs": [],
   "source": [
    "object3 = trains_h3.select('H3','MP').distinct()\n",
    "object3 = places_h3.join(object3,'H3')  \n",
    "object3 = object3.group_by('MP').agg(array_agg(object_construct(lit('NAME'),\n",
    "                                                                col('NAME'),\n",
    "                                                                lit('DISTANCE_FROM_EVENT'),\n",
    "                                                                round('DISTANCE_FROM_EVENT',5).astype(DecimalType(20,4)),\n",
    "                                                                lit('PHONE'),\n",
    "                                                                col('PHONE'),\n",
    "                                                               lit('WEBSITE'),\n",
    "                                                               col('WEBSITE'))).within_group('MP').alias('RESTAURANTS'))\n",
    "object3\n"
   ]
  },
  {
   "cell_type": "code",
   "execution_count": null,
   "id": "f97c7a77-3499-4ed6-a006-9951b860131f",
   "metadata": {
    "collapsed": false,
    "language": "python",
    "name": "letter_trains"
   },
   "outputs": [],
   "source": [
    "object1 = trains_h3.group_by('MP').agg(array_agg(object_construct(lit('Train Station information'),col('ALTERNATE'))).within_group('MP').alias('TRAIN_STATIONS'))\n",
    "object1"
   ]
  },
  {
   "cell_type": "code",
   "execution_count": null,
   "id": "e8f7d133-0649-4716-bb63-0242f64f6145",
   "metadata": {
    "collapsed": false,
    "language": "python",
    "name": "letter_events"
   },
   "outputs": [],
   "source": [
    "object2 = trains_h3.select('MP','EVENT_NAME','DATE').distinct()\n",
    "object2 = object2.group_by('MP').agg(array_agg(object_construct(lit('EVENT'),col('EVENT_NAME'),lit('DATE'),col('DATE'))).within_group('MP').alias('EVENTS'))\n",
    "object2"
   ]
  },
  {
   "cell_type": "code",
   "execution_count": null,
   "id": "6b2c0ef1-b7e2-40b2-9be8-a54013ef6f59",
   "metadata": {
    "collapsed": false,
    "language": "python",
    "name": "letter_object"
   },
   "outputs": [],
   "source": [
    "all_3 = object1.join(object2,'MP')\n",
    "all_3 = all_3.join(object3,'MP')\n",
    "\n",
    "all_3.write.mode('overwrite').save_as_table(\"DATA.EVENTS_AND_WHAT_IS_AFFECTED\")"
   ]
  },
  {
   "cell_type": "code",
   "execution_count": null,
   "id": "43874e91-53b8-48d4-9aef-be3def347db3",
   "metadata": {
    "collapsed": false,
    "language": "python",
    "name": "filt_restaurant_obj"
   },
   "outputs": [],
   "source": [
    "all_3 = session.table(\"DATA.EVENTS_AND_WHAT_IS_AFFECTED\")\n",
    "all_3 = all_3.select('MP','TRAIN_STATIONS','EVENTS',\n",
    "                     \n",
    "array_slice(col('RESTAURANTS'),lit(0),lit(8)).alias('RESTAURANTS'))\n",
    "\n",
    "          \n",
    "all_3"
   ]
  },
  {
   "cell_type": "code",
   "execution_count": null,
   "id": "cbe5ed03-44ff-4463-803d-97cdb026d5ac",
   "metadata": {
    "collapsed": false,
    "language": "python",
    "name": "prompt_letter"
   },
   "outputs": [],
   "source": [
    "prompt = concat(lit('Write to this MP:'),\n",
    "                col('MP'),\n",
    "               lit('about these events: '),\n",
    "               col('EVENTS').astype(StringType()),\n",
    "               lit('effecting these stations: '),\n",
    "               col('TRAIN_STATIONS').astype(StringType()),\n",
    "                lit('And these Restaurants: '),\n",
    "                col('RESTAURANTS').astype(StringType()),\n",
    "               lit('The letter is written by Becky - a concerned Citizen'))\n"
   ]
  },
  {
   "cell_type": "code",
   "execution_count": null,
   "id": "d68b199d-027b-4404-aea0-2c94b23c4289",
   "metadata": {
    "collapsed": false,
    "language": "python",
    "name": "cortex_letter"
   },
   "outputs": [],
   "source": [
    "letters = all_3.select('MP',call_function('SNOWFLAKE.CORTEX.COMPLETE','mixtral-8x7b',prompt).alias('LETTER'))\n",
    "letters.write.mode('overwrite').save_as_table(\"DATA.LETTERS_TO_MP\")"
   ]
  },
  {
   "cell_type": "code",
   "execution_count": null,
   "id": "d689647b-90b2-421f-99eb-ce19cb4ae1a7",
   "metadata": {
    "collapsed": false,
    "language": "python",
    "name": "new_letters"
   },
   "outputs": [],
   "source": [
    "letters = session.table('DATA.LETTERS_TO_MP')\n",
    "letters"
   ]
  },
  {
   "cell_type": "code",
   "execution_count": null,
   "id": "8373b419-b05a-4eee-9aaf-44483a3602ed",
   "metadata": {
    "collapsed": false,
    "language": "python",
    "name": "letter_reader"
   },
   "outputs": [],
   "source": [
    "letterspd = letters.to_pandas()\n",
    "\n",
    "selected_letter = st.slider('Choose Letter:',0,letterspd.shape[0]-1,1)\n",
    "st.write(letterspd.LETTER.iloc[selected_letter])"
   ]
  }
 ],
 "metadata": {
  "kernelspec": {
   "display_name": "Streamlit Notebook",
   "name": "streamlit"
  }
 },
 "nbformat": 4,
 "nbformat_minor": 5
}
