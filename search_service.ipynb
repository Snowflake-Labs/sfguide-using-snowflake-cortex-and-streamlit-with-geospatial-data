{
 "metadata": {
  "kernelspec": {
   "display_name": "Streamlit Notebook",
   "name": "streamlit"
  }
 },
 "nbformat_minor": 5,
 "nbformat": 4,
 "cells": [
  {
   "cell_type": "markdown",
   "id": "9fe2f986-b8f2-47d2-bb38-39ce6f544ee0",
   "metadata": {
    "name": "cell1",
    "collapsed": false,
    "resultHeight": 74
   },
   "source": "# Make Text Searchable"
  },
  {
   "cell_type": "code",
   "id": "3775908f-ca36-4846-8f38-5adca39217f2",
   "metadata": {
    "language": "python",
    "name": "import_and_load_data",
    "collapsed": false,
    "resultHeight": 1456
   },
   "source": "# Import python packages\nimport streamlit as st\nfrom snowflake.snowpark.context import get_active_session\nfrom snowflake.snowpark import functions as F\nfrom snowflake.snowpark.types import *\n\n# Write directly to the app\nst.markdown(\"### Use Vector Embeddings to make data searchable and only send the relevant data to the LLM for quick answers\")\n\n# Get the current credentials\nsession = get_active_session()\n\n\n\nletters = session.table('BUILD_UK.DATA.LETTERS_TO_MP')\n\nSMEDIA = session.table('BUILD_UK.DATA.V_SOCIAL_MEDIA')\n\nINCIDENTS = session.table('BUILD_UK.DATA.INCIDENTS').join_table_function('flatten','GENERATED_EVENTS').select(F.col('VALUE').alias('INCIDENT'))\nINCIDENTS = INCIDENTS.join_table_function('flatten','INCIDENT').select('VALUE')\n\nst.markdown('#### Here are the letters')\nletters\n\nst.markdown('#### Here is the social media')\nSMEDIA\n\nst.markdown('#### Here are the Incidents')\nINCIDENTS\n\n\nobject = letters.select(F.col('LETTER').alias('OBJECT'))\\\n.union(SMEDIA.select(F.col('V').astype(StringType()).alias('OBJECT')))\n\n",
   "execution_count": null,
   "outputs": []
  },
  {
   "cell_type": "markdown",
   "id": "2910357f-2438-4bd5-ae50-4f9c3617f098",
   "metadata": {
    "name": "header_letters_social_media",
    "collapsed": false,
    "resultHeight": 47
   },
   "source": "#### Present both letters and social media comments as an object"
  },
  {
   "cell_type": "code",
   "id": "8d50cbf4-0c8d-4950-86cb-114990437ac9",
   "metadata": {
    "language": "python",
    "name": "load_all_data_one_object",
    "resultHeight": 422,
    "collapsed": false
   },
   "source": "object = letters.select(F.col('LETTER').alias('OBJECT'))\\\n.union(SMEDIA.select(F.col('V').astype(StringType()).alias('OBJECT')))\\\n.union(INCIDENTS.select(F.col('VALUE').astype(StringType()).alias('OBJECT')))\n\nobject.write.mode('overwrite').save_as_table(\"DATA.EVENT_TEXT\")\nst.write(object)",
   "execution_count": null,
   "outputs": []
  },
  {
   "cell_type": "markdown",
   "id": "079ab709-ae5e-41c4-af4f-23bf4ff2dfeb",
   "metadata": {
    "name": "header_vector_embeddings",
    "collapsed": false,
    "resultHeight": 47
   },
   "source": "#### Use Vector Embeddings to put the unstructured data into an array using built in text embeddings"
  },
  {
   "cell_type": "markdown",
   "id": "904cc82a-2b5a-45a4-a003-5fd592eff951",
   "metadata": {
    "name": "diagram_embeddings",
    "collapsed": false,
    "resultHeight": 649
   },
   "source": "![alt text](https://docs.snowflake.com/en/_images/vector-similarity-vectors-example.png \"Title\")"
  },
  {
   "cell_type": "code",
   "id": "c695373e-ac74-4b62-a1f1-08206cbd5c81",
   "metadata": {
    "language": "python",
    "name": "embed_cortex",
    "collapsed": false,
    "resultHeight": 0
   },
   "source": "embeds = object.with_column('EMBED',F.call_function('SNOWFLAKE.CORTEX.EMBED_TEXT_768',\n                                                    F.lit('snowflake-arctic-embed-m'),\n                                                    F.col('OBJECT'))).cache_result()",
   "execution_count": null,
   "outputs": []
  },
  {
   "cell_type": "code",
   "id": "6df79e71-3617-4926-9f7f-5754aaaf2f81",
   "metadata": {
    "language": "python",
    "name": "view_embeds",
    "resultHeight": 438,
    "collapsed": false
   },
   "outputs": [],
   "source": "embeds",
   "execution_count": null
  },
  {
   "cell_type": "markdown",
   "id": "13d5a2a4-2c7e-4391-a883-808c7b6ba187",
   "metadata": {
    "name": "header_do_something_with_data",
    "collapsed": false,
    "resultHeight": 47
   },
   "source": "#### Do something with the data"
  },
  {
   "cell_type": "code",
   "id": "86afae3d-9c66-4e0b-9827-cf5a5807589d",
   "metadata": {
    "language": "python",
    "name": "do_something_data",
    "collapsed": false,
    "resultHeight": 83
   },
   "outputs": [],
   "source": "question = st.text_input('Type in your question:','Produce a News report about Food poisoning')",
   "execution_count": null
  },
  {
   "cell_type": "code",
   "id": "b3381029-ead6-4920-93f5-5aad93a44553",
   "metadata": {
    "language": "python",
    "name": "add_question_to_data",
    "collapsed": false,
    "resultHeight": 0
   },
   "outputs": [],
   "source": "poison_search = embeds.with_column('QUESTION',F.lit(question))\n\n",
   "execution_count": null
  },
  {
   "cell_type": "markdown",
   "id": "28a98636-67ab-45cf-b968-8dab5415bac2",
   "metadata": {
    "name": "header_embed_question",
    "collapsed": false,
    "resultHeight": 47
   },
   "source": "#### Embed the Question the same way as the data"
  },
  {
   "cell_type": "code",
   "id": "03b9d868-d5ef-40fa-a0cf-b11c7a083d28",
   "metadata": {
    "language": "python",
    "name": "embed_question",
    "collapsed": false,
    "resultHeight": 0
   },
   "outputs": [],
   "source": "poison_search = poison_search.with_column('EMBEDQ',F.call_function('SNOWFLAKE.CORTEX.EMBED_TEXT_768',\n                                                    F.lit('snowflake-arctic-embed-m'),\n                                                    F.col('QUESTION'))).cache_result()",
   "execution_count": null
  },
  {
   "cell_type": "markdown",
   "id": "d253239e-86b2-4458-b764-8b5768c8af10",
   "metadata": {
    "name": "header_similarity",
    "collapsed": false,
    "resultHeight": 47
   },
   "source": "#### Use the Vector Cosine Similarity function to rank each row based on how close the vectors are - the closer the data is to the question, the higher the ranking"
  },
  {
   "cell_type": "code",
   "id": "279a4cf9-0f07-4da3-bf0a-4351bec62331",
   "metadata": {
    "language": "python",
    "name": "rank_results",
    "collapsed": false,
    "resultHeight": 438
   },
   "outputs": [],
   "source": "poison_similar = poison_search.with_column('search',F.call_function('VECTOR_COSINE_SIMILARITY'\n                                           ,F.col('EMBED'),\n                                          F.col('EMBEDQ')))\n\npoison_similar.sort(F.col('SEARCH').desc()) ",
   "execution_count": null
  },
  {
   "cell_type": "markdown",
   "id": "cbc1ba04-88ff-4101-a56f-170c368c4c95",
   "metadata": {
    "name": "header_top_5",
    "collapsed": false,
    "resultHeight": 47
   },
   "source": "#### Sort by relavance and only show the top 5"
  },
  {
   "cell_type": "code",
   "id": "9c53a461-2fb9-4666-9a6f-487b5afce756",
   "metadata": {
    "language": "python",
    "name": "sort_data",
    "collapsed": false,
    "resultHeight": 0
   },
   "outputs": [],
   "source": "poison_similar = poison_similar.sort(F.col('SEARCH').desc()).limit(5).cache_result()",
   "execution_count": null
  },
  {
   "cell_type": "markdown",
   "id": "851e6247-20a2-4d47-b174-e5e48037986b",
   "metadata": {
    "name": "header_select_relevent_columns",
    "collapsed": false,
    "resultHeight": 47
   },
   "source": "#### Tidy up the dataframe to view only the question and the relevant datasets"
  },
  {
   "cell_type": "code",
   "id": "09677389-6c0d-48ee-a179-2dc1ccabb9f8",
   "metadata": {
    "language": "python",
    "name": "select_filter",
    "collapsed": false,
    "resultHeight": 251
   },
   "outputs": [],
   "source": "poison_similar.select('OBJECT','QUESTION')",
   "execution_count": null
  },
  {
   "cell_type": "markdown",
   "id": "c7b2ed2b-c99e-4a26-879b-c97049bc1aed",
   "metadata": {
    "name": "header_readable_answer",
    "collapsed": false,
    "resultHeight": 46
   },
   "source": "### Use Cortex Complete in the same way as before to provide a readable answer"
  },
  {
   "cell_type": "code",
   "id": "109b4319-d544-4db8-ba7a-2e28c2fb6466",
   "metadata": {
    "language": "python",
    "name": "readable_answer",
    "collapsed": false,
    "resultHeight": 0
   },
   "outputs": [],
   "source": "### link to the different llm functions and what region supports them - https://docs.snowflake.com/en/user-guide/snowflake-cortex/llm-functions\n\npoison_relevent = poison_similar.select(F.array_agg('OBJECT').alias('OBJECT'))\nANSWER = poison_relevent.with_column('ANSWER',\n                                    F.call_function('SNOWFLAKE.CORTEX.COMPLETE',F.lit('mixtral-8x7b'),\n                                                   F.concat(F.lit(question),\n                                                           F.lit(' Based on the following data: '),\n                                                           F.col('OBJECT').astype(StringType()),\n                                                           F.lit('Only provide the answer in markdown format '),\n                                                           F.lit('Do not provide additional commentary'))))",
   "execution_count": null
  },
  {
   "cell_type": "code",
   "id": "04350c90-9ade-49c6-a4cd-66a06fb44471",
   "metadata": {
    "language": "python",
    "name": "answer",
    "collapsed": false,
    "resultHeight": 111
   },
   "outputs": [],
   "source": "ANSWER",
   "execution_count": null
  },
  {
   "cell_type": "code",
   "id": "b18e7f80-0db4-4b9d-9107-b3f4f45c1402",
   "metadata": {
    "language": "python",
    "name": "answer_formatted",
    "collapsed": false,
    "resultHeight": 486
   },
   "outputs": [],
   "source": "st.write(ANSWER.select('ANSWER').to_pandas().ANSWER.iloc[0])",
   "execution_count": null
  },
  {
   "cell_type": "markdown",
   "id": "5f789718-a942-457d-b1c5-30d18f94df29",
   "metadata": {
    "name": "heading_create_service",
    "collapsed": false,
    "resultHeight": 113
   },
   "source": "### Create a Search Service\nYou can see how you can make text searchable.  Another way is to create a search service.  this embeds the text as a background process and also dynamically refreshes the service as new data arrives.  There is also a tool within the cortex studio (home page) which creates the same SQL within the UI."
  },
  {
   "cell_type": "code",
   "id": "2cff3105-b6f8-43ce-854f-3ee74f6b246d",
   "metadata": {
    "language": "sql",
    "name": "create_search_service",
    "collapsed": false,
    "resultHeight": 111
   },
   "outputs": [],
   "source": "CREATE OR REPLACE  CORTEX SEARCH SERVICE DATA.NORTHERN_ACTIVITY\n  ON OBJECT\n  WAREHOUSE = BUILD_UK_WAREHOUSE\n  TARGET_LAG = '1 hour'\n  COMMENT = 'Searching through all event text'\n  AS SELECT * FROM DATA.EVENT_TEXT;",
   "execution_count": null
  },
  {
   "cell_type": "code",
   "id": "b1f5cd77-0c02-430c-b366-d177e3380671",
   "metadata": {
    "language": "sql",
    "name": "Describe_serch_service",
    "collapsed": false,
    "resultHeight": 111
   },
   "outputs": [],
   "source": "DESCRIBE CORTEX SEARCH SERVICE DATA.NORTHERN_ACTIVITY",
   "execution_count": null
  },
  {
   "cell_type": "markdown",
   "id": "b9ef088e-5584-4f82-b00e-b5410629ff4b",
   "metadata": {
    "name": "heading_test_search_service",
    "collapsed": false,
    "resultHeight": 46
   },
   "source": "### Test out the Search Service with Streamlit"
  },
  {
   "cell_type": "code",
   "id": "175dca48-8778-404d-8663-cea276ab740f",
   "metadata": {
    "language": "python",
    "name": "streamlit_to_search",
    "collapsed": false,
    "resultHeight": 1260,
    "codeCollapsed": true
   },
   "outputs": [],
   "source": "# Import python packages\nimport streamlit as st\nfrom snowflake.core import Root\nfrom snowflake.snowpark.context import get_active_session\n\n# Constants\nDB = \"BUILD_UK\"\nSCHEMA = \"DATA\"\nSERVICE = \"NORTHERN_ACTIVITY\"\nBASE_TABLE = \"BUILD_UK.DATA.EVENT_TEXT\"\n\n\ndef get_column_specification():\n    \"\"\"\n    Returns the name of the search column and a list of the names of the attribute columns\n    for the provided cortex search service\n    \"\"\"\n    session = get_active_session()\n    search_service_result = session.sql(f\"DESC CORTEX SEARCH SERVICE {DB}.{SCHEMA}.{SERVICE}\").collect()[0]\n    #st.session_state.attribute_columns = search_service_result.attribute_columns.split(\",\")\n    st.session_state.search_column = search_service_result.search_column\n    st.session_state.columns = search_service_result.columns.split(\",\")\n\ndef init_layout():\n    st.title(\"Cortex AI Search\")\n    st.markdown(f\"Querying service: `{DB}.{SCHEMA}.{SERVICE}`\".replace('\"', ''))\n\ndef query_cortex_search_service(query, filter={}):\n    \"\"\"\n    Queries the cortex search service in the session state and returns a list of results\n    \"\"\"\n    session = get_active_session()\n    cortex_search_service = (\n        Root(session)\n        .databases[DB]\n        .schemas[SCHEMA]\n        .cortex_search_services[SERVICE]\n    )\n    context_documents = cortex_search_service.search(\n        query,\n        columns=st.session_state.columns,\n        filter=filter,\n        limit=st.session_state.limit)\n    return context_documents.results\n\n@st.cache_data\ndef distinct_values_for_attribute(col_name, is_array_attribute=False):\n    session = get_active_session()\n    if is_array_attribute:\n        values = session.sql(f'''\n        SELECT DISTINCT value FROM {BASE_TABLE},\n        LATERAL FLATTEN(input => {col_name})\n        ''').collect()\n    else:\n        values = session.sql(f\"SELECT DISTINCT {col_name} AS VALUE FROM {BASE_TABLE}\").collect()\n    return [ x[\"VALUE\"].replace('\"', \"\") for x in values ]\n\ndef init_search_input():\n    st.session_state.query = st.text_input(\"Query\")\n\ndef init_limit_input():\n    st.session_state.limit = st.number_input(\"Limit\", min_value=1, value=5)\n\n\n\ndef display_search_results(results):\n    \"\"\"\n    Display the search results in the UI\n    \"\"\"\n    st.subheader(\"Search results\")\n    for i, result in enumerate(results):\n        result = dict(result)\n        container = st.expander(f\"[Result {i+1}]\", expanded=True)\n\n        # Add the result text.\n        container.markdown(result[st.session_state.search_column])\n\n        # Add the attributes.\n        for column, column_value in sorted(result.items()):\n            if column == st.session_state.search_column:\n                continue\n            container.markdown(f\"**{column}**: {column_value}\")\n\n\n\ndef main():\n    init_layout()\n    get_column_specification()\n    init_limit_input()\n    init_search_input()\n\n    if not st.session_state.query:\n        return\n    results = query_cortex_search_service(\n        st.session_state.query\n    )\n    display_search_results(results)\n\n\nif __name__ == \"__main__\":\n    #st.set_page_config(page_title=\"Cortex AI Search and Summary\", layout=\"wide\")\n    main()",
   "execution_count": null
  }
 ]
}