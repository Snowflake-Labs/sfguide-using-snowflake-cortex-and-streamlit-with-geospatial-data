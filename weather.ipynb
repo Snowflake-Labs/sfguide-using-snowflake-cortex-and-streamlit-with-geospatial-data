{
 "metadata": {
  "kernelspec": {
   "display_name": "Streamlit Notebook",
   "name": "streamlit"
  }
 },
 "nbformat_minor": 5,
 "nbformat": 4,
 "cells": [
  {
   "cell_type": "markdown",
   "id": "1041d8c8-d335-4c34-ae56-8d365f2d78d5",
   "metadata": {
    "name": "TITLE_1",
    "collapsed": false
   },
   "source": "#### Import Libraries"
  },
  {
   "cell_type": "code",
   "id": "193af2eb-ef05-444f-8ac1-2c0d50e16c59",
   "metadata": {
    "language": "python",
    "name": "IMPORT_LIBARIES",
    "collapsed": false
   },
   "outputs": [],
   "source": "# Import python packages\nimport streamlit as st\nfrom snowflake.snowpark.context import get_active_session\nfrom snowflake.snowpark.functions import any_value, max,min,avg,call_function, month, year, dayofmonth, parse_json,split,substr,hour,replace,concat,col,lit,array_slice,array_agg,object_construct,to_time, date_add,to_date, current_date\nfrom snowflake.snowpark.types import StringType,VariantType, DateType, IntegerType,DecimalType\n\nimport pandas as pd\nimport altair as alt\n\n\n\n# Write directly to the app\nst.title(\"Weather for Each Event in the North :sunny:\")\nst.write(\n    \"\"\"This app shows the weather that may affect Northern Trains).\n    \"\"\"\n)\n\n# Get the current credentials\nsession = get_active_session()",
   "execution_count": null
  },
  {
   "cell_type": "markdown",
   "id": "379c817c-8ea4-4bbd-83f5-69a6527e4cc2",
   "metadata": {
    "name": "MARKDOWN_2",
    "collapsed": false
   },
   "source": "#### View the Events which also include Latitude and Longitude as we did previously\n\nWe are also adding a point column, this is so we can join this data with the weather data which also has points"
  },
  {
   "cell_type": "code",
   "id": "6891c208-6bb3-45e8-a7b6-f304c72d5b40",
   "metadata": {
    "language": "python",
    "name": "GENERATED_EVENTS",
    "collapsed": false
   },
   "outputs": [],
   "source": "st.markdown('#### A dataframe which shows all the previously loaded events')\nfrom snowflake.snowpark.functions import to_geography\n\nevents = session.table('BUILD_UK.DATA.EVENTS_IN_THE_NORTH').select('EVENT_DATA')\nevents = events.join_table_function('flatten',parse_json('EVENT_DATA'))\n\nevents = events.select(col('VALUE')['DATE'].astype(DateType()).alias('\"Date\"'),\n                       col('VALUE')['DESCRIPTION'].astype(StringType()).alias('\"Description\"'),\n                       col('VALUE')['NAME'].astype(StringType()).alias('\"Name\"'),\n                       to_geography(parse_json('VALUE')['CENTROID']).alias('\"Centroid\"'),\n                       call_function('H3_POINT_TO_CELL_STRING',col('\"Centroid\"'),lit(5)).alias('\"H3\"'),\n                       call_function('H3_CELL_TO_BOUNDARY',col('\"H3\"')).alias('\"GEOM\"'),\n                      col('VALUE')['COLOR'].alias('\"Colour\"'))\n#events_latlon = events_latlon.with_column('POINT',call_function('ST_MAKEPOINT',col('\"Longitude\"'),col('\"Latitude\"')))\nevents",
   "execution_count": null
  },
  {
   "cell_type": "markdown",
   "id": "8374916e-7f48-4888-b433-21e545f6e213",
   "metadata": {
    "name": "MARKDOWN_3",
    "collapsed": false
   },
   "source": "#### Bring in the Weather Data - in this case we are filtering on the most recent weather forecasts"
  },
  {
   "cell_type": "code",
   "id": "289d655a-20c9-4ecf-9670-dbed789ebada",
   "metadata": {
    "language": "python",
    "name": "WEATHER_DATA_FORECASTS",
    "collapsed": false
   },
   "outputs": [],
   "source": "\n### load in daily forecast\n\nweather_daily = session.table('POSTCODE_SECTOR_WEATHER_FORECASTS__ADVANCED_WITH_SOLAR.PCSECT_FORECAST.\"advanced_with_solar_daily_view\"')\n\n\n\n\n### find the latest weather forecast\nweather_daily_max = weather_daily.agg(max('\"Issued_at\"').alias('MAX'))\n\n### join the latest issue date to the dataset in order to filter it.\nweather_daily = weather_daily.join(weather_daily_max,weather_daily_max['MAX']==weather_daily['\"Issued_at\"']).drop('MAX')\nst.markdown('##### Daily forecast')\nst.dataframe(weather_daily.limit(10))\n\n",
   "execution_count": null
  },
  {
   "cell_type": "code",
   "id": "25b35623-c434-4a57-bf8c-8304306759b6",
   "metadata": {
    "language": "python",
    "name": "DAILY_DATA",
    "collapsed": false
   },
   "outputs": [],
   "source": "daily_h3 = weather_daily.with_column('H3',call_function('H3_POINT_TO_CELL_STRING',col('POINT'),5))",
   "execution_count": null
  },
  {
   "cell_type": "markdown",
   "id": "6ac3ff02-f942-4247-a2fd-b6d04e7b48ce",
   "metadata": {
    "name": "MARKDOWN_4",
    "collapsed": false
   },
   "source": "#### Joining relevant weather forecasts for each Event"
  },
  {
   "cell_type": "code",
   "id": "fa76e5df-0c55-4c8c-9ba6-ffe91acb6968",
   "metadata": {
    "language": "python",
    "name": "JOIN_WEATHER_TO_EVENT",
    "collapsed": false
   },
   "outputs": [],
   "source": "from snowflake.snowpark.functions import to_geography\neventsj = events.join(daily_h3,call_function('H3_TRY_GRID_DISTANCE',events['\"H3\"'], daily_h3['H3']).isNotNull(),lsuffix='L')\n\neventsj.limit(1)\neventsj = eventsj.group_by('\"Date\"','\"Validity_date\"','\"Name\"',)\\\n.agg(avg('\"Max_temperature_day\"').alias('\"Temperature Day\"'),\n     avg('\"Min_temperature_night\"').alias('\"Temperature Night\"'),\n     avg('\"Max_Wind_Gust_day\"').alias('\"Wind Gust Day\"'),\n     avg('\"Max_Wind_Gust_night\"').alias('\"Wind Gust Night\"'),\navg('\"Probability_of_Rain_day\"').alias('\"Probability of Rain Day\"'),\navg('\"Probability_of_Rain_night\"').alias('\"Probability of Rain Night\"'),\navg('\"Probability_of_Heavy_Rain_day\"').alias('\"Probability of Heavy Rain Day\"'),\navg('\"Probability_of_Heavy_Rain_night\"').alias('\"Probability of Heavy Rain Night\"'),\navg('\"Probability_of_Snow_night\"').alias('\"Probability of Snow Night\"'),\navg('\"Probability_of_Snow_day\"').alias('\"Probability of Snow Day\"'),\navg('\"Probability_of_Hail_night\"').alias('\"Probability of Hail Night\"'),\navg('\"Probability_of_Hail_day\"').alias('\"Probability of Hail Day\"'),\navg('\"Probability_of_Fog_night\"').alias('\"Probability of Fog Night\"'),\navg('\"Probability_of_Fog_day\"').alias('\"Probability of Fog Day\"'),\navg('\"Maximum_UV_index\"').alias('\"Maximum UV index\"')\n                                                          )\n\neventsj\n",
   "execution_count": null
  },
  {
   "cell_type": "markdown",
   "id": "b3cb5aea-b642-41d3-8541-3b809fdde2cf",
   "metadata": {
    "name": "MARKDOWN_5",
    "collapsed": false
   },
   "source": "### Create a Human Readable Weather Forecast"
  },
  {
   "cell_type": "markdown",
   "id": "31a93c73-c133-46fb-b64a-ca1411eb1f27",
   "metadata": {
    "name": "MARKDOWN_6",
    "collapsed": false
   },
   "source": "#### STEP 1 - Create Data Filters"
  },
  {
   "cell_type": "code",
   "id": "24cb50a3-2487-4841-ab60-647546bef1ee",
   "metadata": {
    "language": "python",
    "name": "CREATE_DATE_FILTERS",
    "collapsed": false
   },
   "outputs": [],
   "source": "event_filter = events.select('\"Name\"')\ndate_filter = eventsj.agg(max('\"Validity_date\"').alias('MAX'),\n                          min('\"Validity_date\"').alias('MIN')).to_pandas()\n\n\n\n\nselected_event = st.selectbox('Select Event:',event_filter)\nselected_date = st.date_input('Select Date:',date_filter.MIN.iloc[0],date_filter.MIN.iloc[0],date_filter.MAX.iloc[0])",
   "execution_count": null
  },
  {
   "cell_type": "markdown",
   "id": "29efb47c-1183-43ae-8d9a-e9e57aa41dbf",
   "metadata": {
    "name": "MARKDOWN_7",
    "collapsed": false
   },
   "source": "#### Create the Prompt"
  },
  {
   "cell_type": "code",
   "id": "64930c40-cb52-4173-8350-717daf9c5d7c",
   "metadata": {
    "language": "python",
    "name": "CREATE_PROMPT",
    "collapsed": false
   },
   "outputs": [],
   "source": "todaypd = eventsj.filter((col('\"Validity_date\"')==date_add(lit(selected_date),1))\n                                     & (col('\"Name\"')==selected_event)).to_pandas()\n\nst.write(todaypd)\nmelt = pd.melt(todaypd)\nmelt['variable'] = melt['variable'].astype(\"string\")\nmelt['value'] = melt['value'].astype(\"string\")\n\n\n##### create an object to feed into the LLM\nobject = session.create_dataframe(melt)\nobject = object.with_column('object',object_construct(col('\"variable\"'),col('\"value\"')))\n    \nobject = object.select(array_agg('OBJECT').alias('OBJECT'))\n\n\n\nprompt = object.select(concat(lit('Generate a descriptive weather report in 500 containing paragraphs words for today which includes relevant emojis to summarise the weather based on the following dataset'),\n                    col('object').astype(StringType()),\n                   lit('USE APPROPIATE MARKDOWN TO ENHANCE THE PRESENTATION. NO COMMENTS')).alias('PROMPT'))\n\nst.code(prompt.to_pandas().PROMPT.iloc[0])\n\n",
   "execution_count": null
  },
  {
   "cell_type": "markdown",
   "id": "17ad3cbc-b8f0-441b-a1dc-f2f016235d38",
   "metadata": {
    "name": "MARKDOWN_8",
    "collapsed": false
   },
   "source": "#### Run the LLM"
  },
  {
   "cell_type": "code",
   "id": "6dc5a616-c539-4d14-9572-2bd1953717c7",
   "metadata": {
    "language": "python",
    "name": "RUN_LLM",
    "collapsed": false
   },
   "outputs": [],
   "source": "complete = prompt.select(call_function('snowflake.cortex.complete',lit('mixtral-8x7b'),col('PROMPT')))\nst.write(complete.collect()[0][0])",
   "execution_count": null
  },
  {
   "cell_type": "markdown",
   "id": "bebce57d-7073-44b0-be8e-88548b21feea",
   "metadata": {
    "name": "MARKDOWN_9",
    "collapsed": false
   },
   "source": "#### Using Observational data with historic events"
  },
  {
   "cell_type": "code",
   "id": "27ec1a13-843a-482c-a7ff-267ed79f8080",
   "metadata": {
    "language": "python",
    "name": "events_data"
   },
   "outputs": [],
   "source": "events",
   "execution_count": null
  },
  {
   "cell_type": "code",
   "id": "0dce9197-85df-4491-983a-dbf5fdda8a79",
   "metadata": {
    "language": "python",
    "name": "load_obs_data",
    "collapsed": false
   },
   "outputs": [],
   "source": "obs = session.table('POSTCODE_SECTOR_WEATHER_FORECASTS__ADVANCED_WITH_SOLAR.PCSECT_FORECAST.\"daily_obs_view\"')\nobs = obs.with_column('H3',call_function('H3_POINT_TO_CELL_STRING',col('POINT'),5))\nobs.limit(5)",
   "execution_count": null
  },
  {
   "cell_type": "code",
   "id": "cc022266-7b42-4612-92c5-fc0aa98803d8",
   "metadata": {
    "language": "sql",
    "name": "change_warehouse_size"
   },
   "outputs": [],
   "source": "alter warehouse BUILD_UK_WAREHOUSE set warehouse_size = 'medium'",
   "execution_count": null
  },
  {
   "cell_type": "markdown",
   "id": "9278f11c-198a-4950-a19c-eae7411ca030",
   "metadata": {
    "name": "markdown_10",
    "collapsed": false
   },
   "source": "Below, we will join the observation data to the event data by H3.  We will also join by date - however, as we are looking at historic, we will only join to the month and day of the date so we see what the weather is like for the same date but for previous years.  As we are looking though historic data, we have increased the warehouse size to give us a bit more power."
  },
  {
   "cell_type": "code",
   "id": "6e528411-858b-4a9c-8e95-ad65247d9c88",
   "metadata": {
    "language": "python",
    "name": "join_obs_to_events",
    "collapsed": false
   },
   "outputs": [],
   "source": "obs = obs.filter(year('\"Validity_date\"')>2019)\n\nevent_obs = events.join(obs, (dayofmonth( obs['\"Validity_date\"']) == dayofmonth(events['\"Date\"'])) &\n                        (month( obs['\"Validity_date\"']) == month(events['\"Date\"']))&\n                       (events['\"H3\"'] == obs['H3']),lsuffix='_obs')\n\ncache = event_obs.cache_result()",
   "execution_count": null
  },
  {
   "cell_type": "code",
   "id": "6df7e5b4-f73c-48c2-adcf-261057177d2a",
   "metadata": {
    "language": "python",
    "name": "count_results",
    "collapsed": false
   },
   "outputs": [],
   "source": "cache.count()",
   "execution_count": null
  },
  {
   "cell_type": "markdown",
   "id": "9790b8bd-0869-4f49-849f-60977dc0d71b",
   "metadata": {
    "name": "markdown_11",
    "collapsed": false
   },
   "source": "#### Take a look at the results below.  The query has been sorted by event name and Validity date - you can compare rain and description of the weather of previous years."
  },
  {
   "cell_type": "code",
   "id": "f9ad4687-9311-481c-9e2c-330655b46cfd",
   "metadata": {
    "language": "python",
    "name": "view_results",
    "collapsed": false
   },
   "outputs": [],
   "source": "cache = cache.group_by('\"Date\"','\"Description\"','\"Name\"', '\"Validity_date\"').agg(avg('\"Total_rainfall_amount\"'),any_value('\"Predominant_weather_description\"'))\ncache.sort('\"Name\"','\"Validity_date\"')",
   "execution_count": null
  }
 ]
}