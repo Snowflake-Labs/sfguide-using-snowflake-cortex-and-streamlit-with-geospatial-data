{
 "cells": [
  {
   "cell_type": "markdown",
   "id": "1041d8c8-d335-4c34-ae56-8d365f2d78d5",
   "metadata": {
    "collapsed": false,
    "name": "TITLE_1"
   },
   "source": [
    "#### Import Libraries"
   ]
  },
  {
   "cell_type": "code",
   "execution_count": null,
   "id": "193af2eb-ef05-444f-8ac1-2c0d50e16c59",
   "metadata": {
    "collapsed": false,
    "language": "python",
    "name": "IMPORT_LIBARIES"
   },
   "outputs": [],
   "source": [
    "# Import python packages\n",
    "import streamlit as st\n",
    "from snowflake.snowpark.context import get_active_session\n",
    "from snowflake.snowpark.functions import any_value, max,min,avg,call_function, month, year, dayofmonth, parse_json,split,substr,hour,replace,concat,col,lit,array_slice,array_agg,object_construct,to_time, date_add,to_date, current_date\n",
    "from snowflake.snowpark.types import StringType,VariantType, DateType, IntegerType,DecimalType\n",
    "\n",
    "import pandas as pd\n",
    "import altair as alt\n",
    "\n",
    "\n",
    "\n",
    "# Write directly to the app\n",
    "st.title(\"Weather for Each Event in the North :sunny:\")\n",
    "st.write(\n",
    "    \"\"\"This app shows the weather that may affect Northern Trains).\n",
    "    \"\"\"\n",
    ")\n",
    "\n",
    "# Get the current credentials\n",
    "session = get_active_session()"
   ]
  },
  {
   "cell_type": "markdown",
   "id": "379c817c-8ea4-4bbd-83f5-69a6527e4cc2",
   "metadata": {
    "collapsed": false,
    "name": "MARKDOWN_2"
   },
   "source": [
    "#### View the Events which also include Latitude and Longitude as we did previously\n",
    "\n",
    "We are also adding a point column, this is so we can join this data with the weather data which also has points"
   ]
  },
  {
   "cell_type": "code",
   "execution_count": null,
   "id": "6891c208-6bb3-45e8-a7b6-f304c72d5b40",
   "metadata": {
    "collapsed": false,
    "language": "python",
    "name": "GENERATED_EVENTS"
   },
   "outputs": [],
   "source": [
    "st.markdown('#### A dataframe which shows all the previously loaded events')\n",
    "from snowflake.snowpark.functions import to_geography\n",
    "\n",
    "events = session.table('BUILD_UK.DATA.EVENTS_IN_THE_NORTH').select('EVENT_DATA')\n",
    "events = events.join_table_function('flatten',parse_json('EVENT_DATA'))\n",
    "\n",
    "events = events.select(col('VALUE')['DATE'].astype(DateType()).alias('\"Date\"'),\n",
    "                       col('VALUE')['DESCRIPTION'].astype(StringType()).alias('\"Description\"'),\n",
    "                       col('VALUE')['NAME'].astype(StringType()).alias('\"Name\"'),\n",
    "                       to_geography(parse_json('VALUE')['CENTROID']).alias('\"Centroid\"'),\n",
    "                       call_function('H3_POINT_TO_CELL_STRING',col('\"Centroid\"'),lit(5)).alias('\"H3\"'),\n",
    "                       call_function('H3_CELL_TO_BOUNDARY',col('\"H3\"')).alias('\"GEOM\"'),\n",
    "                      col('VALUE')['COLOR'].alias('\"Colour\"'))\n",
    "#events_latlon = events_latlon.with_column('POINT',call_function('ST_MAKEPOINT',col('\"Longitude\"'),col('\"Latitude\"')))\n",
    "events"
   ]
  },
  {
   "cell_type": "markdown",
   "id": "8374916e-7f48-4888-b433-21e545f6e213",
   "metadata": {
    "collapsed": false,
    "name": "MARKDOWN_3"
   },
   "source": [
    "#### Bring in the Weather Data - in this case we are filtering on the most recent weather forecasts"
   ]
  },
  {
   "cell_type": "code",
   "execution_count": null,
   "id": "289d655a-20c9-4ecf-9670-dbed789ebada",
   "metadata": {
    "collapsed": false,
    "language": "python",
    "name": "WEATHER_DATA_FORECASTS"
   },
   "outputs": [],
   "source": [
    "\n",
    "### load in daily forecast\n",
    "\n",
    "weather_daily = session.table('POSTCODE_SECTOR_WEATHER_FORECASTS.PCSECT_FORECAST.\"postcode_daily_view\"')\n",
    "\n",
    "\n",
    "\n",
    "\n",
    "### find the latest weather forecast\n",
    "weather_daily_max = weather_daily.agg(max('\"Issued_at\"').alias('MAX'))\n",
    "\n",
    "### join the latest issue date to the dataset in order to filter it.\n",
    "weather_daily = weather_daily.join(weather_daily_max,weather_daily_max['MAX']==weather_daily['\"Issued_at\"']).drop('MAX')\n",
    "st.markdown('##### Daily forecast')\n",
    "st.dataframe(weather_daily.limit(10))\n",
    "\n"
   ]
  },
  {
   "cell_type": "code",
   "execution_count": null,
   "id": "25b35623-c434-4a57-bf8c-8304306759b6",
   "metadata": {
    "collapsed": false,
    "language": "python",
    "name": "DAILY_DATA"
   },
   "outputs": [],
   "source": [
    "daily_h3 = weather_daily.with_column('H3',call_function('H3_POINT_TO_CELL_STRING',col('POINT'),5))"
   ]
  },
  {
   "cell_type": "markdown",
   "id": "6ac3ff02-f942-4247-a2fd-b6d04e7b48ce",
   "metadata": {
    "collapsed": false,
    "name": "MARKDOWN_4"
   },
   "source": [
    "#### Joining relevant weather forecasts for each Event"
   ]
  },
  {
   "cell_type": "code",
   "execution_count": null,
   "id": "fa76e5df-0c55-4c8c-9ba6-ffe91acb6968",
   "metadata": {
    "collapsed": false,
    "language": "python",
    "name": "JOIN_WEATHER_TO_EVENT"
   },
   "outputs": [],
   "source": [
    "from snowflake.snowpark.functions import to_geography\n",
    "eventsj = events.join(daily_h3,call_function('H3_TRY_GRID_DISTANCE',events['\"H3\"'], daily_h3['H3']).isNotNull(),lsuffix='L')\n",
    "\n",
    "eventsj.limit(1)\n",
    "eventsj = eventsj.group_by('\"Date\"','\"Validity_date\"','\"Name\"',)\\\n",
    ".agg(avg('\"Max_temperature_day\"').alias('\"Temperature Day\"'),\n",
    "     avg('\"Min_temperature_night\"').alias('\"Temperature Night\"'),\n",
    "     avg('\"Max_Wind_Gust_day\"').alias('\"Wind Gust Day\"'),\n",
    "     avg('\"Max_Wind_Gust_night\"').alias('\"Wind Gust Night\"'),\n",
    "avg('\"Probability_of_Rain_day\"').alias('\"Probability of Rain Day\"'),\n",
    "avg('\"Probability_of_Rain_night\"').alias('\"Probability of Rain Night\"'),\n",
    "avg('\"Probability_of_Heavy_Rain_day\"').alias('\"Probability of Heavy Rain Day\"'),\n",
    "avg('\"Probability_of_Heavy_Rain_night\"').alias('\"Probability of Heavy Rain Night\"'),\n",
    "avg('\"Probability_of_Snow_night\"').alias('\"Probability of Snow Night\"'),\n",
    "avg('\"Probability_of_Snow_day\"').alias('\"Probability of Snow Day\"'),\n",
    "avg('\"Probability_of_Hail_night\"').alias('\"Probability of Hail Night\"'),\n",
    "avg('\"Probability_of_Hail_day\"').alias('\"Probability of Hail Day\"'),\n",
    "avg('\"Probability_of_Fog_night\"').alias('\"Probability of Fog Night\"'),\n",
    "avg('\"Probability_of_Fog_day\"').alias('\"Probability of Fog Day\"'),\n",
    "avg('\"Maximum_UV_index\"').alias('\"Maximum UV index\"')\n",
    "                                                          )\n",
    "\n",
    "eventsj\n"
   ]
  },
  {
   "cell_type": "markdown",
   "id": "b3cb5aea-b642-41d3-8541-3b809fdde2cf",
   "metadata": {
    "collapsed": false,
    "name": "MARKDOWN_5"
   },
   "source": [
    "### Create a Human Readable Weather Forecast"
   ]
  },
  {
   "cell_type": "markdown",
   "id": "31a93c73-c133-46fb-b64a-ca1411eb1f27",
   "metadata": {
    "collapsed": false,
    "name": "MARKDOWN_6"
   },
   "source": [
    "#### STEP 1 - Create Data Filters"
   ]
  },
  {
   "cell_type": "code",
   "execution_count": null,
   "id": "24cb50a3-2487-4841-ab60-647546bef1ee",
   "metadata": {
    "collapsed": false,
    "language": "python",
    "name": "CREATE_DATE_FILTERS"
   },
   "outputs": [],
   "source": [
    "event_filter = events.select('\"Name\"')\n",
    "date_filter = eventsj.agg(max('\"Validity_date\"').alias('MAX'),\n",
    "                          min('\"Validity_date\"').alias('MIN')).to_pandas()\n",
    "\n",
    "\n",
    "\n",
    "\n",
    "selected_event = st.selectbox('Select Event:',event_filter)\n",
    "selected_date = st.date_input('Select Date:',date_filter.MIN.iloc[0],date_filter.MIN.iloc[0],date_filter.MAX.iloc[0])"
   ]
  },
  {
   "cell_type": "markdown",
   "id": "29efb47c-1183-43ae-8d9a-e9e57aa41dbf",
   "metadata": {
    "collapsed": false,
    "name": "MARKDOWN_7"
   },
   "source": [
    "#### Create the Prompt"
   ]
  },
  {
   "cell_type": "code",
   "execution_count": null,
   "id": "64930c40-cb52-4173-8350-717daf9c5d7c",
   "metadata": {
    "collapsed": false,
    "language": "python",
    "name": "CREATE_PROMPT"
   },
   "outputs": [],
   "source": [
    "todaypd = eventsj.filter((col('\"Validity_date\"')==date_add(lit(selected_date),1))\n",
    "                                     & (col('\"Name\"')==selected_event)).to_pandas()\n",
    "\n",
    "st.write(todaypd)\n",
    "melt = pd.melt(todaypd)\n",
    "melt['variable'] = melt['variable'].astype(\"string\")\n",
    "melt['value'] = melt['value'].astype(\"string\")\n",
    "\n",
    "\n",
    "##### create an object to feed into the LLM\n",
    "object = session.create_dataframe(melt)\n",
    "object = object.with_column('object',object_construct(col('\"variable\"'),col('\"value\"')))\n",
    "    \n",
    "object = object.select(array_agg('OBJECT').alias('OBJECT'))\n",
    "\n",
    "\n",
    "\n",
    "prompt = object.select(concat(lit('Generate a descriptive weather report in 500 containing paragraphs words for today which includes relevant emojis to summarise the weather based on the following dataset'),\n",
    "                    col('object').astype(StringType()),\n",
    "                   lit('USE APPROPIATE MARKDOWN TO ENHANCE THE PRESENTATION. NO COMMENTS')).alias('PROMPT'))\n",
    "\n",
    "st.code(prompt.to_pandas().PROMPT.iloc[0])\n",
    "\n"
   ]
  },
  {
   "cell_type": "markdown",
   "id": "17ad3cbc-b8f0-441b-a1dc-f2f016235d38",
   "metadata": {
    "collapsed": false,
    "name": "MARKDOWN_8"
   },
   "source": [
    "#### Run the LLM"
   ]
  },
  {
   "cell_type": "code",
   "execution_count": null,
   "id": "6dc5a616-c539-4d14-9572-2bd1953717c7",
   "metadata": {
    "collapsed": false,
    "language": "python",
    "name": "RUN_LLM"
   },
   "outputs": [],
   "source": [
    "complete = prompt.select(call_function('snowflake.cortex.complete',lit('mixtral-8x7b'),col('PROMPT')))\n",
    "st.write(complete.collect()[0][0])"
   ]
  },
  {
   "cell_type": "markdown",
   "id": "bebce57d-7073-44b0-be8e-88548b21feea",
   "metadata": {
    "collapsed": false,
    "name": "MARKDOWN_9"
   },
   "source": [
    "#### Using Observational data with historic events"
   ]
  },
  {
   "cell_type": "code",
   "execution_count": null,
   "id": "27ec1a13-843a-482c-a7ff-267ed79f8080",
   "metadata": {
    "language": "python",
    "name": "events_data"
   },
   "outputs": [],
   "source": [
    "events"
   ]
  },
  {
   "cell_type": "code",
   "execution_count": null,
   "id": "0dce9197-85df-4491-983a-dbf5fdda8a79",
   "metadata": {
    "collapsed": false,
    "language": "python",
    "name": "load_obs_data"
   },
   "outputs": [],
   "source": [
    "obs = session.table('POSTCODE_SECTOR_WEATHER_FORECASTS.PCSECT_FORECAST.\"daily_obs_view\"')\n",
    "obs = obs.with_column('H3',call_function('H3_POINT_TO_CELL_STRING',col('POINT'),5))\n",
    "obs.limit(5)"
   ]
  },
  {
   "cell_type": "code",
   "execution_count": null,
   "id": "cc022266-7b42-4612-92c5-fc0aa98803d8",
   "metadata": {
    "language": "sql",
    "name": "change_warehouse_size"
   },
   "outputs": [],
   "source": [
    "alter warehouse BUILD_UK_WAREHOUSE set warehouse_size = 'medium'"
   ]
  },
  {
   "cell_type": "markdown",
   "id": "9278f11c-198a-4950-a19c-eae7411ca030",
   "metadata": {
    "collapsed": false,
    "name": "markdown_10"
   },
   "source": [
    "Below, we will join the observation data to the event data by H3.  We will also join by date - however, as we are looking at historic, we will only join to the month and day of the date so we see what the weather is like for the same date but for previous years.  As we are looking though historic data, we have increased the warehouse size to give us a bit more power."
   ]
  },
  {
   "cell_type": "code",
   "execution_count": null,
   "id": "6e528411-858b-4a9c-8e95-ad65247d9c88",
   "metadata": {
    "collapsed": false,
    "language": "python",
    "name": "join_obs_to_events"
   },
   "outputs": [],
   "source": [
    "obs = obs.filter(year('\"Validity_date\"')>2019)\n",
    "\n",
    "event_obs = events.join(obs, (dayofmonth( obs['\"Validity_date\"']) == dayofmonth(events['\"Date\"'])) &\n",
    "                        (month( obs['\"Validity_date\"']) == month(events['\"Date\"']))&\n",
    "                       (events['\"H3\"'] == obs['H3']),lsuffix='_obs')\n",
    "\n",
    "cache = event_obs.cache_result()"
   ]
  },
  {
   "cell_type": "code",
   "execution_count": null,
   "id": "6df7e5b4-f73c-48c2-adcf-261057177d2a",
   "metadata": {
    "collapsed": false,
    "language": "python",
    "name": "count_results"
   },
   "outputs": [],
   "source": [
    "cache.count()"
   ]
  },
  {
   "cell_type": "markdown",
   "id": "9790b8bd-0869-4f49-849f-60977dc0d71b",
   "metadata": {
    "collapsed": false,
    "name": "markdown_11"
   },
   "source": [
    "#### Take a look at the results below.  The query has been sorted by event name and Validity date - you can compare rain and description of the weather of previous years."
   ]
  },
  {
   "cell_type": "code",
   "execution_count": null,
   "id": "f9ad4687-9311-481c-9e2c-330655b46cfd",
   "metadata": {
    "collapsed": false,
    "language": "python",
    "name": "view_results"
   },
   "outputs": [],
   "source": [
    "cache = cache.group_by('\"Date\"','\"Description\"','\"Name\"', '\"Validity_date\"').agg(avg('\"Total_rainfall_amount\"'),any_value('\"Predominant_weather_description\"'))\n",
    "cache.sort('\"Name\"','\"Validity_date\"')"
   ]
  }
 ],
 "metadata": {
  "kernelspec": {
   "display_name": "Streamlit Notebook",
   "name": "streamlit"
  }
 },
 "nbformat": 4,
 "nbformat_minor": 5
}
